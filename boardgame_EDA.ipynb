{
 "cells": [
  {
   "cell_type": "markdown",
   "id": "raising-melissa",
   "metadata": {},
   "source": [
    "# DATA 550 Mini-Project 2\n",
    "\n",
    "- Group 14: Nathan Smith / Mitch Harris\n",
    "- Date: Feb 11, 2021"
   ]
  },
  {
   "cell_type": "code",
   "execution_count": 2,
   "id": "precise-service",
   "metadata": {},
   "outputs": [
    {
     "data": {
      "text/plain": [
       "DataTransformerRegistry.enable('data_server')"
      ]
     },
     "execution_count": 2,
     "metadata": {},
     "output_type": "execute_result"
    }
   ],
   "source": [
    "import pandas as pd\n",
    "import altair as alt\n",
    "\n",
    "# Save a vega-lite spec and a PNG blob for each plot in the notebook\n",
    "alt.renderers.enable('mimetype')\n",
    "# Handle large data sets without embedding them in the notebook\n",
    "alt.data_transformers.enable('data_server')"
   ]
  },
  {
   "cell_type": "markdown",
   "id": "characteristic-adventure",
   "metadata": {},
   "source": [
    "## Step 1: Describe the Dataset"
   ]
  },
  {
   "cell_type": "markdown",
   "id": "tired-dover",
   "metadata": {},
   "source": [
    "The boardgame dataset includes boardgames with their descriptions, general game details, and user ratings from the [Board Game Geek website](http://boardgamegeek.com/). \n",
    "\n",
    "The dataset was obtained from the R4DS TidyTuesday 2019-03-12 Github repository: https://github.com/rfordatascience/tidytuesday/tree/master/data/2019/2019-03-12. As described in the repository, the data comes from the Board Game Geek website database and general cleaning of the dataset has already been completed. The general cleaning limited the dataset to games with at least 50 ratings and for games between 1950 and 2016. The repository notes that this was done to follow a previous analysis completed by [fivethirtyeight](https://fivethirtyeight.com/features/designing-the-best-board-game-on-the-planet/).\n",
    "\n",
    "The dataset columns descriptions as provided in the Github repository are as follows:\n",
    "\n",
    "|variable       |class     |description |\n",
    "|:--------------|:---------|:-----------|\n",
    "|game_id        |character | Unique game identifier         |\n",
    "|description    |character | A paragraph of text describing the game       |\n",
    "|image          |character | URL image of the game            |\n",
    "|max_players    |integer   | Maximum recommended players           |\n",
    "|max_playtime   |integer   | Maximum recommended playtime (min)           |\n",
    "|min_age        |integer   | Minimum recommended age          |\n",
    "|min_players    |integer   | Minimum recommended players         |\n",
    "|min_playtime   |integer   | Minimum recommended playtime (min)           |\n",
    "|name           |character | Name of the game           |\n",
    "|playing_time   |integer   | Average playtime           |\n",
    "|thumbnail      |character | URL thumbnail of the game           |\n",
    "|year_published |integer   | Year game was published           |\n",
    "|artist         |character | Artist for game art           |\n",
    "|category       |character | Categories for the game (separated by commas)           |\n",
    "|compilation    |character | If part of a multi-compilation - name of compilation           |\n",
    "|designer       |character | Game designer           |\n",
    "|expansion      |character | If there is an expansion pack - name of expansion           |\n",
    "|family         |character | Family of game - equivalent to a publisher          |\n",
    "|mechanic       |character | Game mechanic - how game is played, separated by comma         |\n",
    "|publisher      |character | Comoany/person who published the game, separated by comma        |\n",
    "|average_rating |double    | Average rating on Board Games Geek (1-10)        |\n",
    "|users_rated    |double    | Number of users that rated the game           |  "
   ]
  },
  {
   "cell_type": "markdown",
   "id": "compliant-scottish",
   "metadata": {},
   "source": [
    "# Step 2: Load the Dataset"
   ]
  },
  {
   "cell_type": "code",
   "execution_count": 38,
   "id": "legendary-guyana",
   "metadata": {},
   "outputs": [],
   "source": [
    "boardgame_data = pd.read_csv('board_games.csv', parse_dates=['year_published'])\n",
    "boardgame_data['year_published'] = pd.to_datetime(boardgame_data['year_published'], format='%Y')"
   ]
  },
  {
   "cell_type": "markdown",
   "id": "arctic-childhood",
   "metadata": {},
   "source": [
    "Provide a view of the dataframe:"
   ]
  },
  {
   "cell_type": "code",
   "execution_count": 39,
   "id": "interim-information",
   "metadata": {},
   "outputs": [
    {
     "data": {
      "text/html": [
       "<div>\n",
       "<style scoped>\n",
       "    .dataframe tbody tr th:only-of-type {\n",
       "        vertical-align: middle;\n",
       "    }\n",
       "\n",
       "    .dataframe tbody tr th {\n",
       "        vertical-align: top;\n",
       "    }\n",
       "\n",
       "    .dataframe thead th {\n",
       "        text-align: right;\n",
       "    }\n",
       "</style>\n",
       "<table border=\"1\" class=\"dataframe\">\n",
       "  <thead>\n",
       "    <tr style=\"text-align: right;\">\n",
       "      <th></th>\n",
       "      <th>game_id</th>\n",
       "      <th>description</th>\n",
       "      <th>image</th>\n",
       "      <th>max_players</th>\n",
       "      <th>max_playtime</th>\n",
       "      <th>min_age</th>\n",
       "      <th>min_players</th>\n",
       "      <th>min_playtime</th>\n",
       "      <th>name</th>\n",
       "      <th>playing_time</th>\n",
       "      <th>...</th>\n",
       "      <th>artist</th>\n",
       "      <th>category</th>\n",
       "      <th>compilation</th>\n",
       "      <th>designer</th>\n",
       "      <th>expansion</th>\n",
       "      <th>family</th>\n",
       "      <th>mechanic</th>\n",
       "      <th>publisher</th>\n",
       "      <th>average_rating</th>\n",
       "      <th>users_rated</th>\n",
       "    </tr>\n",
       "  </thead>\n",
       "  <tbody>\n",
       "    <tr>\n",
       "      <th>0</th>\n",
       "      <td>1</td>\n",
       "      <td>Die Macher is a game about seven sequential po...</td>\n",
       "      <td>//cf.geekdo-images.com/images/pic159509.jpg</td>\n",
       "      <td>5</td>\n",
       "      <td>240</td>\n",
       "      <td>14</td>\n",
       "      <td>3</td>\n",
       "      <td>240</td>\n",
       "      <td>Die Macher</td>\n",
       "      <td>240</td>\n",
       "      <td>...</td>\n",
       "      <td>Marcus Gschwendtner</td>\n",
       "      <td>Economic,Negotiation,Political</td>\n",
       "      <td>NaN</td>\n",
       "      <td>Karl-Heinz Schmiel</td>\n",
       "      <td>NaN</td>\n",
       "      <td>Country: Germany,Valley Games Classic Line</td>\n",
       "      <td>Area Control / Area Influence,Auction/Bidding,...</td>\n",
       "      <td>Hans im Glück Verlags-GmbH,Moskito Spiele,Vall...</td>\n",
       "      <td>7.66508</td>\n",
       "      <td>4498</td>\n",
       "    </tr>\n",
       "    <tr>\n",
       "      <th>1</th>\n",
       "      <td>2</td>\n",
       "      <td>Dragonmaster is a trick-taking card game based...</td>\n",
       "      <td>//cf.geekdo-images.com/images/pic184174.jpg</td>\n",
       "      <td>4</td>\n",
       "      <td>30</td>\n",
       "      <td>12</td>\n",
       "      <td>3</td>\n",
       "      <td>30</td>\n",
       "      <td>Dragonmaster</td>\n",
       "      <td>30</td>\n",
       "      <td>...</td>\n",
       "      <td>Bob Pepper</td>\n",
       "      <td>Card Game,Fantasy</td>\n",
       "      <td>NaN</td>\n",
       "      <td>G. W. \"Jerry\" D'Arcey</td>\n",
       "      <td>NaN</td>\n",
       "      <td>Animals: Dragons</td>\n",
       "      <td>Trick-taking</td>\n",
       "      <td>E.S. Lowe,Milton Bradley</td>\n",
       "      <td>6.60815</td>\n",
       "      <td>478</td>\n",
       "    </tr>\n",
       "    <tr>\n",
       "      <th>2</th>\n",
       "      <td>3</td>\n",
       "      <td>Part of the Knizia tile-laying trilogy, Samura...</td>\n",
       "      <td>//cf.geekdo-images.com/images/pic3211873.jpg</td>\n",
       "      <td>4</td>\n",
       "      <td>60</td>\n",
       "      <td>10</td>\n",
       "      <td>2</td>\n",
       "      <td>30</td>\n",
       "      <td>Samurai</td>\n",
       "      <td>60</td>\n",
       "      <td>...</td>\n",
       "      <td>Franz Vohwinkel</td>\n",
       "      <td>Abstract Strategy,Medieval</td>\n",
       "      <td>NaN</td>\n",
       "      <td>Reiner Knizia</td>\n",
       "      <td>NaN</td>\n",
       "      <td>Asian Theme,Country: Japan,Knizia tile-laying ...</td>\n",
       "      <td>Area Control / Area Influence,Hand Management,...</td>\n",
       "      <td>999 Games,ABACUSSPIELE,Astrel Games,Ceilikan J...</td>\n",
       "      <td>7.44119</td>\n",
       "      <td>12019</td>\n",
       "    </tr>\n",
       "    <tr>\n",
       "      <th>3</th>\n",
       "      <td>4</td>\n",
       "      <td>When you see the triangular box and the luxuri...</td>\n",
       "      <td>//cf.geekdo-images.com/images/pic285299.jpg</td>\n",
       "      <td>4</td>\n",
       "      <td>60</td>\n",
       "      <td>12</td>\n",
       "      <td>2</td>\n",
       "      <td>60</td>\n",
       "      <td>Tal der Könige</td>\n",
       "      <td>60</td>\n",
       "      <td>...</td>\n",
       "      <td>NaN</td>\n",
       "      <td>Ancient</td>\n",
       "      <td>NaN</td>\n",
       "      <td>Christian Beierer</td>\n",
       "      <td>NaN</td>\n",
       "      <td>Country: Egypt,Promotional Board Games</td>\n",
       "      <td>Action Point Allowance System,Area Control / A...</td>\n",
       "      <td>KOSMOS</td>\n",
       "      <td>6.60675</td>\n",
       "      <td>314</td>\n",
       "    </tr>\n",
       "    <tr>\n",
       "      <th>4</th>\n",
       "      <td>5</td>\n",
       "      <td>In Acquire, each player strategically invests ...</td>\n",
       "      <td>//cf.geekdo-images.com/images/pic342163.jpg</td>\n",
       "      <td>6</td>\n",
       "      <td>90</td>\n",
       "      <td>12</td>\n",
       "      <td>3</td>\n",
       "      <td>90</td>\n",
       "      <td>Acquire</td>\n",
       "      <td>90</td>\n",
       "      <td>...</td>\n",
       "      <td>Scott Okumura,Peter Whitley</td>\n",
       "      <td>Economic</td>\n",
       "      <td>NaN</td>\n",
       "      <td>Sid Sackson</td>\n",
       "      <td>NaN</td>\n",
       "      <td>3M Bookshelf Series</td>\n",
       "      <td>Hand Management,Stock Holding,Tile Placement</td>\n",
       "      <td>3M,Avalon Hill,Avalon Hill (Hasbro),Dujardin,G...</td>\n",
       "      <td>7.35830</td>\n",
       "      <td>15195</td>\n",
       "    </tr>\n",
       "  </tbody>\n",
       "</table>\n",
       "<p>5 rows × 22 columns</p>\n",
       "</div>"
      ],
      "text/plain": [
       "   game_id                                        description  \\\n",
       "0        1  Die Macher is a game about seven sequential po...   \n",
       "1        2  Dragonmaster is a trick-taking card game based...   \n",
       "2        3  Part of the Knizia tile-laying trilogy, Samura...   \n",
       "3        4  When you see the triangular box and the luxuri...   \n",
       "4        5  In Acquire, each player strategically invests ...   \n",
       "\n",
       "                                          image  max_players  max_playtime  \\\n",
       "0   //cf.geekdo-images.com/images/pic159509.jpg            5           240   \n",
       "1   //cf.geekdo-images.com/images/pic184174.jpg            4            30   \n",
       "2  //cf.geekdo-images.com/images/pic3211873.jpg            4            60   \n",
       "3   //cf.geekdo-images.com/images/pic285299.jpg            4            60   \n",
       "4   //cf.geekdo-images.com/images/pic342163.jpg            6            90   \n",
       "\n",
       "   min_age  min_players  min_playtime            name  playing_time  ...  \\\n",
       "0       14            3           240      Die Macher           240  ...   \n",
       "1       12            3            30    Dragonmaster            30  ...   \n",
       "2       10            2            30         Samurai            60  ...   \n",
       "3       12            2            60  Tal der Könige            60  ...   \n",
       "4       12            3            90         Acquire            90  ...   \n",
       "\n",
       "                        artist                        category compilation  \\\n",
       "0          Marcus Gschwendtner  Economic,Negotiation,Political         NaN   \n",
       "1                   Bob Pepper               Card Game,Fantasy         NaN   \n",
       "2              Franz Vohwinkel      Abstract Strategy,Medieval         NaN   \n",
       "3                          NaN                         Ancient         NaN   \n",
       "4  Scott Okumura,Peter Whitley                        Economic         NaN   \n",
       "\n",
       "                designer expansion  \\\n",
       "0     Karl-Heinz Schmiel       NaN   \n",
       "1  G. W. \"Jerry\" D'Arcey       NaN   \n",
       "2          Reiner Knizia       NaN   \n",
       "3      Christian Beierer       NaN   \n",
       "4            Sid Sackson       NaN   \n",
       "\n",
       "                                              family  \\\n",
       "0         Country: Germany,Valley Games Classic Line   \n",
       "1                                   Animals: Dragons   \n",
       "2  Asian Theme,Country: Japan,Knizia tile-laying ...   \n",
       "3             Country: Egypt,Promotional Board Games   \n",
       "4                                3M Bookshelf Series   \n",
       "\n",
       "                                            mechanic  \\\n",
       "0  Area Control / Area Influence,Auction/Bidding,...   \n",
       "1                                       Trick-taking   \n",
       "2  Area Control / Area Influence,Hand Management,...   \n",
       "3  Action Point Allowance System,Area Control / A...   \n",
       "4       Hand Management,Stock Holding,Tile Placement   \n",
       "\n",
       "                                           publisher average_rating  \\\n",
       "0  Hans im Glück Verlags-GmbH,Moskito Spiele,Vall...        7.66508   \n",
       "1                           E.S. Lowe,Milton Bradley        6.60815   \n",
       "2  999 Games,ABACUSSPIELE,Astrel Games,Ceilikan J...        7.44119   \n",
       "3                                             KOSMOS        6.60675   \n",
       "4  3M,Avalon Hill,Avalon Hill (Hasbro),Dujardin,G...        7.35830   \n",
       "\n",
       "  users_rated  \n",
       "0        4498  \n",
       "1         478  \n",
       "2       12019  \n",
       "3         314  \n",
       "4       15195  \n",
       "\n",
       "[5 rows x 22 columns]"
      ]
     },
     "execution_count": 39,
     "metadata": {},
     "output_type": "execute_result"
    }
   ],
   "source": [
    "boardgame_data.head()"
   ]
  },
  {
   "cell_type": "code",
   "execution_count": 40,
   "id": "convenient-aluminum",
   "metadata": {},
   "outputs": [
    {
     "name": "stdout",
     "output_type": "stream",
     "text": [
      "<class 'pandas.core.frame.DataFrame'>\n",
      "RangeIndex: 10532 entries, 0 to 10531\n",
      "Data columns (total 22 columns):\n",
      " #   Column          Non-Null Count  Dtype         \n",
      "---  ------          --------------  -----         \n",
      " 0   game_id         10532 non-null  int64         \n",
      " 1   description     10532 non-null  object        \n",
      " 2   image           10531 non-null  object        \n",
      " 3   max_players     10532 non-null  int64         \n",
      " 4   max_playtime    10532 non-null  int64         \n",
      " 5   min_age         10532 non-null  int64         \n",
      " 6   min_players     10532 non-null  int64         \n",
      " 7   min_playtime    10532 non-null  int64         \n",
      " 8   name            10532 non-null  object        \n",
      " 9   playing_time    10532 non-null  int64         \n",
      " 10  thumbnail       10531 non-null  object        \n",
      " 11  year_published  10532 non-null  datetime64[ns]\n",
      " 12  artist          7759 non-null   object        \n",
      " 13  category        10438 non-null  object        \n",
      " 14  compilation     410 non-null    object        \n",
      " 15  designer        10406 non-null  object        \n",
      " 16  expansion       2752 non-null   object        \n",
      " 17  family          7724 non-null   object        \n",
      " 18  mechanic        9582 non-null   object        \n",
      " 19  publisher       10529 non-null  object        \n",
      " 20  average_rating  10532 non-null  float64       \n",
      " 21  users_rated     10532 non-null  int64         \n",
      "dtypes: datetime64[ns](1), float64(1), int64(8), object(12)\n",
      "memory usage: 1.8+ MB\n"
     ]
    }
   ],
   "source": [
    "boardgame_data.info()"
   ]
  },
  {
   "cell_type": "markdown",
   "id": "social-capability",
   "metadata": {},
   "source": [
    "## Step 3: Explore the Dataset"
   ]
  },
  {
   "cell_type": "markdown",
   "id": "radio-montana",
   "metadata": {},
   "source": [
    "The view of the dataset from Step 2 shows that many of the categororical features (such as 'category', 'mechanic', and 'family') include multiple values for each entry. As such, these features may need to have their observations expanded during the analysis."
   ]
  },
  {
   "cell_type": "markdown",
   "id": "missing-selection",
   "metadata": {},
   "source": [
    "Look at a summary of the numerical columns in the dataset for reference during the EDA:"
   ]
  },
  {
   "cell_type": "code",
   "execution_count": 41,
   "id": "addressed-language",
   "metadata": {},
   "outputs": [
    {
     "data": {
      "text/html": [
       "<div>\n",
       "<style scoped>\n",
       "    .dataframe tbody tr th:only-of-type {\n",
       "        vertical-align: middle;\n",
       "    }\n",
       "\n",
       "    .dataframe tbody tr th {\n",
       "        vertical-align: top;\n",
       "    }\n",
       "\n",
       "    .dataframe thead th {\n",
       "        text-align: right;\n",
       "    }\n",
       "</style>\n",
       "<table border=\"1\" class=\"dataframe\">\n",
       "  <thead>\n",
       "    <tr style=\"text-align: right;\">\n",
       "      <th></th>\n",
       "      <th>game_id</th>\n",
       "      <th>max_players</th>\n",
       "      <th>max_playtime</th>\n",
       "      <th>min_age</th>\n",
       "      <th>min_players</th>\n",
       "      <th>min_playtime</th>\n",
       "      <th>playing_time</th>\n",
       "      <th>average_rating</th>\n",
       "      <th>users_rated</th>\n",
       "    </tr>\n",
       "  </thead>\n",
       "  <tbody>\n",
       "    <tr>\n",
       "      <th>count</th>\n",
       "      <td>10532.000000</td>\n",
       "      <td>10532.000000</td>\n",
       "      <td>10532.000000</td>\n",
       "      <td>10532.000000</td>\n",
       "      <td>10532.000000</td>\n",
       "      <td>10532.000000</td>\n",
       "      <td>10532.000000</td>\n",
       "      <td>10532.000000</td>\n",
       "      <td>10532.000000</td>\n",
       "    </tr>\n",
       "    <tr>\n",
       "      <th>mean</th>\n",
       "      <td>62059.203095</td>\n",
       "      <td>5.657330</td>\n",
       "      <td>91.341436</td>\n",
       "      <td>9.714964</td>\n",
       "      <td>2.070547</td>\n",
       "      <td>80.882738</td>\n",
       "      <td>91.341436</td>\n",
       "      <td>6.370856</td>\n",
       "      <td>870.081466</td>\n",
       "    </tr>\n",
       "    <tr>\n",
       "      <th>std</th>\n",
       "      <td>66223.716828</td>\n",
       "      <td>18.884403</td>\n",
       "      <td>659.754400</td>\n",
       "      <td>3.451226</td>\n",
       "      <td>0.664394</td>\n",
       "      <td>637.873893</td>\n",
       "      <td>659.754400</td>\n",
       "      <td>0.850364</td>\n",
       "      <td>2880.214998</td>\n",
       "    </tr>\n",
       "    <tr>\n",
       "      <th>min</th>\n",
       "      <td>1.000000</td>\n",
       "      <td>0.000000</td>\n",
       "      <td>0.000000</td>\n",
       "      <td>0.000000</td>\n",
       "      <td>0.000000</td>\n",
       "      <td>0.000000</td>\n",
       "      <td>0.000000</td>\n",
       "      <td>1.384210</td>\n",
       "      <td>50.000000</td>\n",
       "    </tr>\n",
       "    <tr>\n",
       "      <th>25%</th>\n",
       "      <td>5444.500000</td>\n",
       "      <td>4.000000</td>\n",
       "      <td>30.000000</td>\n",
       "      <td>8.000000</td>\n",
       "      <td>2.000000</td>\n",
       "      <td>25.000000</td>\n",
       "      <td>30.000000</td>\n",
       "      <td>5.829585</td>\n",
       "      <td>85.000000</td>\n",
       "    </tr>\n",
       "    <tr>\n",
       "      <th>50%</th>\n",
       "      <td>28822.500000</td>\n",
       "      <td>4.000000</td>\n",
       "      <td>45.000000</td>\n",
       "      <td>10.000000</td>\n",
       "      <td>2.000000</td>\n",
       "      <td>45.000000</td>\n",
       "      <td>45.000000</td>\n",
       "      <td>6.392965</td>\n",
       "      <td>176.000000</td>\n",
       "    </tr>\n",
       "    <tr>\n",
       "      <th>75%</th>\n",
       "      <td>126409.500000</td>\n",
       "      <td>6.000000</td>\n",
       "      <td>90.000000</td>\n",
       "      <td>12.000000</td>\n",
       "      <td>2.000000</td>\n",
       "      <td>90.000000</td>\n",
       "      <td>90.000000</td>\n",
       "      <td>6.942675</td>\n",
       "      <td>518.000000</td>\n",
       "    </tr>\n",
       "    <tr>\n",
       "      <th>max</th>\n",
       "      <td>216725.000000</td>\n",
       "      <td>999.000000</td>\n",
       "      <td>60000.000000</td>\n",
       "      <td>42.000000</td>\n",
       "      <td>9.000000</td>\n",
       "      <td>60000.000000</td>\n",
       "      <td>60000.000000</td>\n",
       "      <td>9.003920</td>\n",
       "      <td>67655.000000</td>\n",
       "    </tr>\n",
       "  </tbody>\n",
       "</table>\n",
       "</div>"
      ],
      "text/plain": [
       "             game_id   max_players  max_playtime       min_age   min_players  \\\n",
       "count   10532.000000  10532.000000  10532.000000  10532.000000  10532.000000   \n",
       "mean    62059.203095      5.657330     91.341436      9.714964      2.070547   \n",
       "std     66223.716828     18.884403    659.754400      3.451226      0.664394   \n",
       "min         1.000000      0.000000      0.000000      0.000000      0.000000   \n",
       "25%      5444.500000      4.000000     30.000000      8.000000      2.000000   \n",
       "50%     28822.500000      4.000000     45.000000     10.000000      2.000000   \n",
       "75%    126409.500000      6.000000     90.000000     12.000000      2.000000   \n",
       "max    216725.000000    999.000000  60000.000000     42.000000      9.000000   \n",
       "\n",
       "       min_playtime  playing_time  average_rating   users_rated  \n",
       "count  10532.000000  10532.000000    10532.000000  10532.000000  \n",
       "mean      80.882738     91.341436        6.370856    870.081466  \n",
       "std      637.873893    659.754400        0.850364   2880.214998  \n",
       "min        0.000000      0.000000        1.384210     50.000000  \n",
       "25%       25.000000     30.000000        5.829585     85.000000  \n",
       "50%       45.000000     45.000000        6.392965    176.000000  \n",
       "75%       90.000000     90.000000        6.942675    518.000000  \n",
       "max    60000.000000  60000.000000        9.003920  67655.000000  "
      ]
     },
     "execution_count": 41,
     "metadata": {},
     "output_type": "execute_result"
    }
   ],
   "source": [
    "boardgame_data.describe()"
   ]
  },
  {
   "cell_type": "markdown",
   "id": "reasonable-headline",
   "metadata": {},
   "source": [
    "Also look at the number of missing values in the dataset:"
   ]
  },
  {
   "cell_type": "code",
   "execution_count": 42,
   "id": "experienced-jordan",
   "metadata": {},
   "outputs": [
    {
     "name": "stdout",
     "output_type": "stream",
     "text": [
      "Dataset length:  10532\n"
     ]
    },
    {
     "data": {
      "text/html": [
       "<div>\n",
       "<style scoped>\n",
       "    .dataframe tbody tr th:only-of-type {\n",
       "        vertical-align: middle;\n",
       "    }\n",
       "\n",
       "    .dataframe tbody tr th {\n",
       "        vertical-align: top;\n",
       "    }\n",
       "\n",
       "    .dataframe thead th {\n",
       "        text-align: right;\n",
       "    }\n",
       "</style>\n",
       "<table border=\"1\" class=\"dataframe\">\n",
       "  <thead>\n",
       "    <tr style=\"text-align: right;\">\n",
       "      <th></th>\n",
       "      <th>count_na</th>\n",
       "      <th>percent_na</th>\n",
       "    </tr>\n",
       "  </thead>\n",
       "  <tbody>\n",
       "    <tr>\n",
       "      <th>game_id</th>\n",
       "      <td>0</td>\n",
       "      <td>0.000000</td>\n",
       "    </tr>\n",
       "    <tr>\n",
       "      <th>description</th>\n",
       "      <td>0</td>\n",
       "      <td>0.000000</td>\n",
       "    </tr>\n",
       "    <tr>\n",
       "      <th>image</th>\n",
       "      <td>1</td>\n",
       "      <td>0.009495</td>\n",
       "    </tr>\n",
       "    <tr>\n",
       "      <th>max_players</th>\n",
       "      <td>0</td>\n",
       "      <td>0.000000</td>\n",
       "    </tr>\n",
       "    <tr>\n",
       "      <th>max_playtime</th>\n",
       "      <td>0</td>\n",
       "      <td>0.000000</td>\n",
       "    </tr>\n",
       "    <tr>\n",
       "      <th>min_age</th>\n",
       "      <td>0</td>\n",
       "      <td>0.000000</td>\n",
       "    </tr>\n",
       "    <tr>\n",
       "      <th>min_players</th>\n",
       "      <td>0</td>\n",
       "      <td>0.000000</td>\n",
       "    </tr>\n",
       "    <tr>\n",
       "      <th>min_playtime</th>\n",
       "      <td>0</td>\n",
       "      <td>0.000000</td>\n",
       "    </tr>\n",
       "    <tr>\n",
       "      <th>name</th>\n",
       "      <td>0</td>\n",
       "      <td>0.000000</td>\n",
       "    </tr>\n",
       "    <tr>\n",
       "      <th>playing_time</th>\n",
       "      <td>0</td>\n",
       "      <td>0.000000</td>\n",
       "    </tr>\n",
       "    <tr>\n",
       "      <th>thumbnail</th>\n",
       "      <td>1</td>\n",
       "      <td>0.009495</td>\n",
       "    </tr>\n",
       "    <tr>\n",
       "      <th>year_published</th>\n",
       "      <td>0</td>\n",
       "      <td>0.000000</td>\n",
       "    </tr>\n",
       "    <tr>\n",
       "      <th>artist</th>\n",
       "      <td>2773</td>\n",
       "      <td>26.329282</td>\n",
       "    </tr>\n",
       "    <tr>\n",
       "      <th>category</th>\n",
       "      <td>94</td>\n",
       "      <td>0.892518</td>\n",
       "    </tr>\n",
       "    <tr>\n",
       "      <th>compilation</th>\n",
       "      <td>10122</td>\n",
       "      <td>96.107102</td>\n",
       "    </tr>\n",
       "    <tr>\n",
       "      <th>designer</th>\n",
       "      <td>126</td>\n",
       "      <td>1.196354</td>\n",
       "    </tr>\n",
       "    <tr>\n",
       "      <th>expansion</th>\n",
       "      <td>7780</td>\n",
       "      <td>73.870110</td>\n",
       "    </tr>\n",
       "    <tr>\n",
       "      <th>family</th>\n",
       "      <td>2808</td>\n",
       "      <td>26.661603</td>\n",
       "    </tr>\n",
       "    <tr>\n",
       "      <th>mechanic</th>\n",
       "      <td>950</td>\n",
       "      <td>9.020129</td>\n",
       "    </tr>\n",
       "    <tr>\n",
       "      <th>publisher</th>\n",
       "      <td>3</td>\n",
       "      <td>0.028485</td>\n",
       "    </tr>\n",
       "    <tr>\n",
       "      <th>average_rating</th>\n",
       "      <td>0</td>\n",
       "      <td>0.000000</td>\n",
       "    </tr>\n",
       "    <tr>\n",
       "      <th>users_rated</th>\n",
       "      <td>0</td>\n",
       "      <td>0.000000</td>\n",
       "    </tr>\n",
       "  </tbody>\n",
       "</table>\n",
       "</div>"
      ],
      "text/plain": [
       "                count_na  percent_na\n",
       "game_id                0    0.000000\n",
       "description            0    0.000000\n",
       "image                  1    0.009495\n",
       "max_players            0    0.000000\n",
       "max_playtime           0    0.000000\n",
       "min_age                0    0.000000\n",
       "min_players            0    0.000000\n",
       "min_playtime           0    0.000000\n",
       "name                   0    0.000000\n",
       "playing_time           0    0.000000\n",
       "thumbnail              1    0.009495\n",
       "year_published         0    0.000000\n",
       "artist              2773   26.329282\n",
       "category              94    0.892518\n",
       "compilation        10122   96.107102\n",
       "designer             126    1.196354\n",
       "expansion           7780   73.870110\n",
       "family              2808   26.661603\n",
       "mechanic             950    9.020129\n",
       "publisher              3    0.028485\n",
       "average_rating         0    0.000000\n",
       "users_rated            0    0.000000"
      ]
     },
     "execution_count": 42,
     "metadata": {},
     "output_type": "execute_result"
    }
   ],
   "source": [
    "len_df = len(boardgame_data)\n",
    "print('Dataset length: ', len_df)\n",
    "na_totals = boardgame_data.isnull().sum()\n",
    "na_percent = na_totals / len_df * 100\n",
    "na_df = pd.concat([na_totals, na_percent], axis=1)\n",
    "na_df.columns = ['count_na', 'percent_na']\n",
    "na_df"
   ]
  },
  {
   "cell_type": "markdown",
   "id": "seventh-deputy",
   "metadata": {},
   "source": [
    "The missing data summary shows the following:\n",
    "- Game detail features (minimum age, minimum number of player, etc) and year published are not missing any data.\n",
    "- Rating features are not missing data which is a function of the cleaning already completed for the dataset.\n",
    "- The compilation and expansion features are missing values for most of the dataframe. However, the dataset descriptions for these columns note that they're for games that belong to compilations or have an expansion pack; therefore the lack of data may not just be due to missing values but from the fact that they do not have these.\n",
    "- Game category is missing a very small number of entries such that it should not have a large impact on an anlaysis.\n",
    "- There are a moderate number of missing entries for game family and mechanic which will need to be kept in mind during the analysis.\n",
    "- There are a high number of missing values for artist and designer but there are almost no missing data for publisher."
   ]
  },
  {
   "cell_type": "markdown",
   "id": "therapeutic-metadata",
   "metadata": {},
   "source": [
    "## Step 4: Initial Thoughts"
   ]
  },
  {
   "cell_type": "markdown",
   "id": "impressed-montreal",
   "metadata": {},
   "source": [
    "Initial thoughts on the dataset include:\n",
    "\n",
    "- The game details features are complete in the dataset but from a quick view of the numeric summaries, there are values that may be erroneous and require filtering during wrangling or visualizations. For example:\n",
    "    - 'max_players' has a maximum value of 999.\n",
    "    - 'min_age' has a maximum value of 42.\n",
    "    - 'min_players' has a minimum value of 0.\n",
    "- There are also features in the dataset that have high outliers. For example, the maximum values for `min_playtime` and `playing_time` is 60,000 where the averages are 81 and 91, respectively.\n",
    "- The dataset ranges from 1950 to 2016 but the 50th percentile for 'year_published' is 2007 indicating the most of the games in the dataset are more recent. This could be due to a higher number of games published more recently or due to lack of information/availability of older games.\n",
    "- 'artist' and 'designer' should potentially be dropped from the dataset as they have a much higher number of missing values compared with 'publisher'.\n",
    "- There appears to be a reasonable distribution from approximately 1 to 10 in the 'average_rating' feature but there is a high range in the 'users_rated' feature with values from a minimum of 50 to a maximum of over 65,000."
   ]
  },
  {
   "cell_type": "markdown",
   "id": "unsigned-jones",
   "metadata": {},
   "source": [
    "## Step 5: Wrangling"
   ]
  },
  {
   "cell_type": "markdown",
   "id": "valued-index",
   "metadata": {},
   "source": [
    "The following wrangling has been completed to support the data visualization complete in Step 7."
   ]
  },
  {
   "cell_type": "code",
   "execution_count": 43,
   "id": "knowing-strategy",
   "metadata": {},
   "outputs": [],
   "source": [
    "# Explode game categories"
   ]
  },
  {
   "cell_type": "code",
   "execution_count": 44,
   "id": "timely-superintendent",
   "metadata": {},
   "outputs": [
    {
     "data": {
      "text/html": [
       "<div>\n",
       "<style scoped>\n",
       "    .dataframe tbody tr th:only-of-type {\n",
       "        vertical-align: middle;\n",
       "    }\n",
       "\n",
       "    .dataframe tbody tr th {\n",
       "        vertical-align: top;\n",
       "    }\n",
       "\n",
       "    .dataframe thead th {\n",
       "        text-align: right;\n",
       "    }\n",
       "</style>\n",
       "<table border=\"1\" class=\"dataframe\">\n",
       "  <thead>\n",
       "    <tr style=\"text-align: right;\">\n",
       "      <th></th>\n",
       "      <th>game_id</th>\n",
       "      <th>description</th>\n",
       "      <th>image</th>\n",
       "      <th>max_players</th>\n",
       "      <th>max_playtime</th>\n",
       "      <th>min_age</th>\n",
       "      <th>min_players</th>\n",
       "      <th>min_playtime</th>\n",
       "      <th>name</th>\n",
       "      <th>playing_time</th>\n",
       "      <th>...</th>\n",
       "      <th>artist</th>\n",
       "      <th>category</th>\n",
       "      <th>compilation</th>\n",
       "      <th>designer</th>\n",
       "      <th>expansion</th>\n",
       "      <th>family</th>\n",
       "      <th>mechanic</th>\n",
       "      <th>publisher</th>\n",
       "      <th>average_rating</th>\n",
       "      <th>users_rated</th>\n",
       "    </tr>\n",
       "  </thead>\n",
       "  <tbody>\n",
       "    <tr>\n",
       "      <th>0</th>\n",
       "      <td>1</td>\n",
       "      <td>Die Macher is a game about seven sequential po...</td>\n",
       "      <td>//cf.geekdo-images.com/images/pic159509.jpg</td>\n",
       "      <td>5</td>\n",
       "      <td>240</td>\n",
       "      <td>14</td>\n",
       "      <td>3</td>\n",
       "      <td>240</td>\n",
       "      <td>Die Macher</td>\n",
       "      <td>240</td>\n",
       "      <td>...</td>\n",
       "      <td>Marcus Gschwendtner</td>\n",
       "      <td>Economic</td>\n",
       "      <td>NaN</td>\n",
       "      <td>Karl-Heinz Schmiel</td>\n",
       "      <td>NaN</td>\n",
       "      <td>Country: Germany,Valley Games Classic Line</td>\n",
       "      <td>Area Control / Area Influence,Auction/Bidding,...</td>\n",
       "      <td>Hans im Glück Verlags-GmbH,Moskito Spiele,Vall...</td>\n",
       "      <td>7.66508</td>\n",
       "      <td>4498</td>\n",
       "    </tr>\n",
       "    <tr>\n",
       "      <th>0</th>\n",
       "      <td>1</td>\n",
       "      <td>Die Macher is a game about seven sequential po...</td>\n",
       "      <td>//cf.geekdo-images.com/images/pic159509.jpg</td>\n",
       "      <td>5</td>\n",
       "      <td>240</td>\n",
       "      <td>14</td>\n",
       "      <td>3</td>\n",
       "      <td>240</td>\n",
       "      <td>Die Macher</td>\n",
       "      <td>240</td>\n",
       "      <td>...</td>\n",
       "      <td>Marcus Gschwendtner</td>\n",
       "      <td>Negotiation</td>\n",
       "      <td>NaN</td>\n",
       "      <td>Karl-Heinz Schmiel</td>\n",
       "      <td>NaN</td>\n",
       "      <td>Country: Germany,Valley Games Classic Line</td>\n",
       "      <td>Area Control / Area Influence,Auction/Bidding,...</td>\n",
       "      <td>Hans im Glück Verlags-GmbH,Moskito Spiele,Vall...</td>\n",
       "      <td>7.66508</td>\n",
       "      <td>4498</td>\n",
       "    </tr>\n",
       "    <tr>\n",
       "      <th>0</th>\n",
       "      <td>1</td>\n",
       "      <td>Die Macher is a game about seven sequential po...</td>\n",
       "      <td>//cf.geekdo-images.com/images/pic159509.jpg</td>\n",
       "      <td>5</td>\n",
       "      <td>240</td>\n",
       "      <td>14</td>\n",
       "      <td>3</td>\n",
       "      <td>240</td>\n",
       "      <td>Die Macher</td>\n",
       "      <td>240</td>\n",
       "      <td>...</td>\n",
       "      <td>Marcus Gschwendtner</td>\n",
       "      <td>Political</td>\n",
       "      <td>NaN</td>\n",
       "      <td>Karl-Heinz Schmiel</td>\n",
       "      <td>NaN</td>\n",
       "      <td>Country: Germany,Valley Games Classic Line</td>\n",
       "      <td>Area Control / Area Influence,Auction/Bidding,...</td>\n",
       "      <td>Hans im Glück Verlags-GmbH,Moskito Spiele,Vall...</td>\n",
       "      <td>7.66508</td>\n",
       "      <td>4498</td>\n",
       "    </tr>\n",
       "    <tr>\n",
       "      <th>1</th>\n",
       "      <td>2</td>\n",
       "      <td>Dragonmaster is a trick-taking card game based...</td>\n",
       "      <td>//cf.geekdo-images.com/images/pic184174.jpg</td>\n",
       "      <td>4</td>\n",
       "      <td>30</td>\n",
       "      <td>12</td>\n",
       "      <td>3</td>\n",
       "      <td>30</td>\n",
       "      <td>Dragonmaster</td>\n",
       "      <td>30</td>\n",
       "      <td>...</td>\n",
       "      <td>Bob Pepper</td>\n",
       "      <td>Card Game</td>\n",
       "      <td>NaN</td>\n",
       "      <td>G. W. \"Jerry\" D'Arcey</td>\n",
       "      <td>NaN</td>\n",
       "      <td>Animals: Dragons</td>\n",
       "      <td>Trick-taking</td>\n",
       "      <td>E.S. Lowe,Milton Bradley</td>\n",
       "      <td>6.60815</td>\n",
       "      <td>478</td>\n",
       "    </tr>\n",
       "    <tr>\n",
       "      <th>1</th>\n",
       "      <td>2</td>\n",
       "      <td>Dragonmaster is a trick-taking card game based...</td>\n",
       "      <td>//cf.geekdo-images.com/images/pic184174.jpg</td>\n",
       "      <td>4</td>\n",
       "      <td>30</td>\n",
       "      <td>12</td>\n",
       "      <td>3</td>\n",
       "      <td>30</td>\n",
       "      <td>Dragonmaster</td>\n",
       "      <td>30</td>\n",
       "      <td>...</td>\n",
       "      <td>Bob Pepper</td>\n",
       "      <td>Fantasy</td>\n",
       "      <td>NaN</td>\n",
       "      <td>G. W. \"Jerry\" D'Arcey</td>\n",
       "      <td>NaN</td>\n",
       "      <td>Animals: Dragons</td>\n",
       "      <td>Trick-taking</td>\n",
       "      <td>E.S. Lowe,Milton Bradley</td>\n",
       "      <td>6.60815</td>\n",
       "      <td>478</td>\n",
       "    </tr>\n",
       "  </tbody>\n",
       "</table>\n",
       "<p>5 rows × 22 columns</p>\n",
       "</div>"
      ],
      "text/plain": [
       "   game_id                                        description  \\\n",
       "0        1  Die Macher is a game about seven sequential po...   \n",
       "0        1  Die Macher is a game about seven sequential po...   \n",
       "0        1  Die Macher is a game about seven sequential po...   \n",
       "1        2  Dragonmaster is a trick-taking card game based...   \n",
       "1        2  Dragonmaster is a trick-taking card game based...   \n",
       "\n",
       "                                         image  max_players  max_playtime  \\\n",
       "0  //cf.geekdo-images.com/images/pic159509.jpg            5           240   \n",
       "0  //cf.geekdo-images.com/images/pic159509.jpg            5           240   \n",
       "0  //cf.geekdo-images.com/images/pic159509.jpg            5           240   \n",
       "1  //cf.geekdo-images.com/images/pic184174.jpg            4            30   \n",
       "1  //cf.geekdo-images.com/images/pic184174.jpg            4            30   \n",
       "\n",
       "   min_age  min_players  min_playtime          name  playing_time  ...  \\\n",
       "0       14            3           240    Die Macher           240  ...   \n",
       "0       14            3           240    Die Macher           240  ...   \n",
       "0       14            3           240    Die Macher           240  ...   \n",
       "1       12            3            30  Dragonmaster            30  ...   \n",
       "1       12            3            30  Dragonmaster            30  ...   \n",
       "\n",
       "                artist     category compilation               designer  \\\n",
       "0  Marcus Gschwendtner     Economic         NaN     Karl-Heinz Schmiel   \n",
       "0  Marcus Gschwendtner  Negotiation         NaN     Karl-Heinz Schmiel   \n",
       "0  Marcus Gschwendtner    Political         NaN     Karl-Heinz Schmiel   \n",
       "1           Bob Pepper    Card Game         NaN  G. W. \"Jerry\" D'Arcey   \n",
       "1           Bob Pepper      Fantasy         NaN  G. W. \"Jerry\" D'Arcey   \n",
       "\n",
       "  expansion                                      family  \\\n",
       "0       NaN  Country: Germany,Valley Games Classic Line   \n",
       "0       NaN  Country: Germany,Valley Games Classic Line   \n",
       "0       NaN  Country: Germany,Valley Games Classic Line   \n",
       "1       NaN                            Animals: Dragons   \n",
       "1       NaN                            Animals: Dragons   \n",
       "\n",
       "                                            mechanic  \\\n",
       "0  Area Control / Area Influence,Auction/Bidding,...   \n",
       "0  Area Control / Area Influence,Auction/Bidding,...   \n",
       "0  Area Control / Area Influence,Auction/Bidding,...   \n",
       "1                                       Trick-taking   \n",
       "1                                       Trick-taking   \n",
       "\n",
       "                                           publisher average_rating  \\\n",
       "0  Hans im Glück Verlags-GmbH,Moskito Spiele,Vall...        7.66508   \n",
       "0  Hans im Glück Verlags-GmbH,Moskito Spiele,Vall...        7.66508   \n",
       "0  Hans im Glück Verlags-GmbH,Moskito Spiele,Vall...        7.66508   \n",
       "1                           E.S. Lowe,Milton Bradley        6.60815   \n",
       "1                           E.S. Lowe,Milton Bradley        6.60815   \n",
       "\n",
       "  users_rated  \n",
       "0        4498  \n",
       "0        4498  \n",
       "0        4498  \n",
       "1         478  \n",
       "1         478  \n",
       "\n",
       "[5 rows x 22 columns]"
      ]
     },
     "execution_count": 44,
     "metadata": {},
     "output_type": "execute_result"
    }
   ],
   "source": [
    "category_ratings_df = boardgame_data.copy()\n",
    "category_ratings_df['category'] = category_ratings_df['category'].str.split(\",\")\n",
    "category_ratings_df = category_ratings_df.explode('category')\n",
    "category_ratings_df.head()"
   ]
  },
  {
   "cell_type": "code",
   "execution_count": 45,
   "id": "appointed-broadway",
   "metadata": {},
   "outputs": [],
   "source": [
    "category_ratings_df_cut = category_ratings_df.groupby('category').filter(lambda x: len(x) > 200)"
   ]
  },
  {
   "cell_type": "code",
   "execution_count": 46,
   "id": "julian-madison",
   "metadata": {},
   "outputs": [],
   "source": [
    "category_by_rating = category_ratings_df_cut.groupby('category')[\"average_rating\"].median().sort_values(ascending=False).index.to_list()"
   ]
  },
  {
   "cell_type": "code",
   "execution_count": 47,
   "id": "canadian-colon",
   "metadata": {},
   "outputs": [],
   "source": [
    "# wrangling on dataset that looks at game features (min/max players etc), maybe create a new feature which is player range (2-4 players etc)\n",
    "# likely bin playtime"
   ]
  },
  {
   "cell_type": "code",
   "execution_count": 48,
   "id": "labeled-hammer",
   "metadata": {},
   "outputs": [],
   "source": [
    "features_df = boardgame_data.copy()\n",
    "features_df = features_df[(features_df['max_players'] != features_df['max_players'].max()) & features_df['max_players'] > 0]"
   ]
  },
  {
   "cell_type": "code",
   "execution_count": 49,
   "id": "ongoing-contents",
   "metadata": {},
   "outputs": [],
   "source": [
    "features_df_2 = features_df[(features_df['max_players'] < 20)].copy()"
   ]
  },
  {
   "cell_type": "code",
   "execution_count": 50,
   "id": "psychological-snapshot",
   "metadata": {},
   "outputs": [],
   "source": [
    "features_df_3 = features_df_2[(features_df_2['min_playtime'] <= 1000) & (features_df_2['max_playtime'] <= 2000)].copy()"
   ]
  },
  {
   "cell_type": "code",
   "execution_count": 51,
   "id": "macro-device",
   "metadata": {},
   "outputs": [],
   "source": [
    "number_of_categories = boardgame_data.copy()\n",
    "number_of_mechanics = boardgame_data.copy()\n",
    "\n",
    "number_of_categories = number_of_categories.dropna(subset=[\"category\"])\n",
    "number_of_categories[\"num_categories\"] = [len(x.split(\",\")) for x in number_of_categories[\"category\"]]\n",
    "\n",
    "number_of_mechanics = number_of_mechanics.dropna(subset=[\"mechanic\"])\n",
    "number_of_mechanics[\"num_mechanics\"] = [len(x.split(\",\")) for x in number_of_mechanics[\"mechanic\"]]"
   ]
  },
  {
   "cell_type": "code",
   "execution_count": 52,
   "id": "threaded-cemetery",
   "metadata": {},
   "outputs": [
    {
     "ename": "ValueError",
     "evalue": "invalid literal for int() with base 10: '1986-01-01 00:00:00'",
     "output_type": "error",
     "traceback": [
      "\u001b[1;31m---------------------------------------------------------------------------\u001b[0m",
      "\u001b[1;31mValueError\u001b[0m                                Traceback (most recent call last)",
      "\u001b[1;32m<ipython-input-52-34f2ceb798d7>\u001b[0m in \u001b[0;36m<module>\u001b[1;34m\u001b[0m\n\u001b[1;32m----> 1\u001b[1;33m \u001b[0mnumber_of_categories\u001b[0m\u001b[1;33m[\u001b[0m\u001b[1;34m\"decade\"\u001b[0m\u001b[1;33m]\u001b[0m \u001b[1;33m=\u001b[0m \u001b[1;33m[\u001b[0m\u001b[0mint\u001b[0m\u001b[1;33m(\u001b[0m\u001b[1;33m(\u001b[0m\u001b[0mstr\u001b[0m\u001b[1;33m(\u001b[0m\u001b[0mx\u001b[0m\u001b[1;33m)\u001b[0m\u001b[1;33m[\u001b[0m\u001b[1;36m0\u001b[0m\u001b[1;33m:\u001b[0m\u001b[1;33m-\u001b[0m\u001b[1;36m1\u001b[0m\u001b[1;33m]\u001b[0m\u001b[1;33m)\u001b[0m\u001b[1;33m+\u001b[0m\u001b[1;34m\"0\"\u001b[0m\u001b[1;33m)\u001b[0m \u001b[1;32mfor\u001b[0m \u001b[0mx\u001b[0m \u001b[1;32min\u001b[0m \u001b[0mnumber_of_categories\u001b[0m\u001b[1;33m[\u001b[0m\u001b[1;34m\"year_published\"\u001b[0m\u001b[1;33m]\u001b[0m\u001b[1;33m]\u001b[0m\u001b[1;33m\u001b[0m\u001b[1;33m\u001b[0m\u001b[0m\n\u001b[0m",
      "\u001b[1;32m<ipython-input-52-34f2ceb798d7>\u001b[0m in \u001b[0;36m<listcomp>\u001b[1;34m(.0)\u001b[0m\n\u001b[1;32m----> 1\u001b[1;33m \u001b[0mnumber_of_categories\u001b[0m\u001b[1;33m[\u001b[0m\u001b[1;34m\"decade\"\u001b[0m\u001b[1;33m]\u001b[0m \u001b[1;33m=\u001b[0m \u001b[1;33m[\u001b[0m\u001b[0mint\u001b[0m\u001b[1;33m(\u001b[0m\u001b[1;33m(\u001b[0m\u001b[0mstr\u001b[0m\u001b[1;33m(\u001b[0m\u001b[0mx\u001b[0m\u001b[1;33m)\u001b[0m\u001b[1;33m[\u001b[0m\u001b[1;36m0\u001b[0m\u001b[1;33m:\u001b[0m\u001b[1;33m-\u001b[0m\u001b[1;36m1\u001b[0m\u001b[1;33m]\u001b[0m\u001b[1;33m)\u001b[0m\u001b[1;33m+\u001b[0m\u001b[1;34m\"0\"\u001b[0m\u001b[1;33m)\u001b[0m \u001b[1;32mfor\u001b[0m \u001b[0mx\u001b[0m \u001b[1;32min\u001b[0m \u001b[0mnumber_of_categories\u001b[0m\u001b[1;33m[\u001b[0m\u001b[1;34m\"year_published\"\u001b[0m\u001b[1;33m]\u001b[0m\u001b[1;33m]\u001b[0m\u001b[1;33m\u001b[0m\u001b[1;33m\u001b[0m\u001b[0m\n\u001b[0m",
      "\u001b[1;31mValueError\u001b[0m: invalid literal for int() with base 10: '1986-01-01 00:00:00'"
     ]
    }
   ],
   "source": [
    "number_of_categories[\"decade\"] = [int((str(x)[0:-1])+\"0\") for x in number_of_categories[\"year_published\"]]"
   ]
  },
  {
   "cell_type": "code",
   "execution_count": 53,
   "id": "outside-protest",
   "metadata": {},
   "outputs": [],
   "source": [
    "v = boardgame_data.publisher.value_counts()\n",
    "publish_gt_10 = boardgame_data[boardgame_data.publisher.isin(v.index[v.gt(10)])]\n",
    "top_publishers = set(v[0:9].index)\n",
    "top_10_publishers_by_count = boardgame_data[boardgame_data[\"publisher\"].isin(top_publishers)]"
   ]
  },
  {
   "cell_type": "markdown",
   "id": "matched-master",
   "metadata": {},
   "source": [
    "## Step 6: Research Questions"
   ]
  },
  {
   "cell_type": "markdown",
   "id": "naval-hungarian",
   "metadata": {},
   "source": [
    "The following research questions are based on the descriptions of the features available in the dataset and the initial exploration above:\n",
    "\n",
    "- Are newer games more popular than older games?\n",
    "- Which boardgame categories are more popular? \n",
    "- Which game publishers have games with higher average game ratings?\n",
    "- Are there game features (mininum/maximum players and playtime) that correspond with higher average ratings?\n",
    "\n",
    "Note that popularity can be looked at both in terms of average rating and number of ratings? Number of ratings could potentially be thought of as a proxy for number of users although there are a lot of assumptions associated with this as users of some categories may be more likely to post reviews.\n",
    "\n",
    "An additional question not related to game rating is if games are getting more complex over time? This can be explored by looking at the number of categories/mechanics for games."
   ]
  },
  {
   "cell_type": "markdown",
   "id": "sapphire-creativity",
   "metadata": {},
   "source": [
    "## Step 7: Data Analysis and Visualization"
   ]
  },
  {
   "cell_type": "markdown",
   "id": "practical-petite",
   "metadata": {},
   "source": [
    "The first data analysis explores the popularity of boardgames based on published date. Popularity will be looked at both in terms of average rating and number of user ratings."
   ]
  },
  {
   "cell_type": "code",
   "execution_count": 113,
   "id": "intimate-eclipse",
   "metadata": {},
   "outputs": [
    {
     "data": {
      "application/vnd.vegalite.v4+json": {
       "$schema": "https://vega.github.io/schema/vega-lite/v4.8.1.json",
       "config": {
        "view": {
         "continuousHeight": 300,
         "continuousWidth": 400
        }
       },
       "data": {
        "url": "http://localhost:19730/904232e043d8c7c607d5f9e8661bd32e.json"
       },
       "vconcat": [
        {
         "layer": [
          {
           "encoding": {
            "x": {
             "axis": {
              "title": null
             },
             "field": "year_published",
             "scale": {
              "zero": false
             },
             "type": "temporal"
            },
            "y": {
             "axis": {
              "offset": 14,
              "title": "Average Rating",
              "titleFontSize": 12,
              "titleFontWeight": 500
             },
             "field": "average_rating",
             "type": "quantitative"
            }
           },
           "height": 200,
           "mark": {
            "color": "grey",
            "opacity": 0.1,
            "size": 60,
            "type": "circle"
           },
           "title": {
            "anchor": "start",
            "dy": -20,
            "fontSize": 20,
            "text": "Figure 1: Game Popularity based on Published Year"
           },
           "width": 700
          },
          {
           "encoding": {
            "x": {
             "field": "year_published",
             "type": "temporal"
            },
            "y": {
             "aggregate": "mean",
             "field": "average_rating",
             "type": "quantitative"
            }
           },
           "mark": {
            "color": "#1f77b4",
            "size": 3,
            "type": "line"
           }
          }
         ]
        },
        {
         "encoding": {
          "x": {
           "axis": {
            "title": null
           },
           "field": "year_published",
           "scale": {
            "zero": false
           },
           "type": "temporal"
          },
          "y": {
           "aggregate": "mean",
           "axis": {
            "title": "Mean Number of Users Rated",
            "titleFontSize": 12,
            "titleFontWeight": 500
           },
           "field": "users_rated",
           "type": "quantitative"
          }
         },
         "height": 200,
         "mark": {
          "color": "#ff7f0e",
          "type": "bar"
         },
         "width": 700
        },
        {
         "encoding": {
          "x": {
           "axis": {
            "title": null
           },
           "field": "year_published",
           "scale": {
            "zero": false
           },
           "type": "temporal"
          },
          "y": {
           "aggregate": "count",
           "axis": {
            "offset": 8,
            "title": "Count of Games Published",
            "titleFontSize": 12,
            "titleFontWeight": 500
           },
           "type": "quantitative"
          }
         },
         "height": 200,
         "mark": {
          "color": "#2ca02c",
          "type": "bar"
         },
         "width": 700
        }
       ]
      },
      "image/png": "[encoded data removed]",
      "text/plain": [
       "<VegaLite 4 object>\n",
       "\n",
       "If you see this message, it means the renderer has not been properly enabled\n",
       "for the frontend that you are using. For more information, see\n",
       "https://altair-viz.github.io/user_guide/troubleshooting.html\n"
      ]
     },
     "execution_count": 113,
     "metadata": {},
     "output_type": "execute_result"
    }
   ],
   "source": [
    "pa1 = (alt.Chart(boardgame_data).mark_circle(size=60, opacity = 0.1, color = 'grey').encode(\n",
    "    alt.X('year_published',\n",
    "          axis=alt.Axis(title=None),\n",
    "          scale=alt.Scale(zero=False)\n",
    "    ),\n",
    "    alt.Y('average_rating',\n",
    "         axis=alt.Axis(title='Average Rating',\n",
    "                      titleFontSize=12,\n",
    "                      offset=14,\n",
    "                      titleFontWeight=500))\n",
    ").properties(\n",
    "    title=alt.TitleParams(\n",
    "        text='Figure 1: Game Popularity based on Published Year',\n",
    "        anchor='start',\n",
    "        fontSize=20,\n",
    "        dy=-20),\n",
    "    width=700,\n",
    "    height=200\n",
    "))\n",
    "\n",
    "pa1 = pa1 + (alt.Chart(boardgame_data).mark_line(\n",
    "    color='#1f77b4',\n",
    "    size=3\n",
    ").encode(\n",
    "    x='year_published',\n",
    "    y='mean(average_rating)'\n",
    "))\n",
    "\n",
    "pa2 = (alt.Chart(boardgame_data).mark_bar(color='#ff7f0e').encode(\n",
    "    alt.X('year_published',\n",
    "          axis=alt.Axis(title=None),\n",
    "          scale=alt.Scale(zero=False)\n",
    "    ),\n",
    "    alt.Y('mean(users_rated)',\n",
    "         axis=alt.Axis(title='Mean Number of Users Rated',\n",
    "                      titleFontSize=12,\n",
    "                      titleFontWeight=500))\n",
    ").properties(\n",
    "    width=700,\n",
    "    height=200\n",
    "))\n",
    "\n",
    "pa3 = (alt.Chart(boardgame_data).mark_bar(color='#2ca02c').encode(\n",
    "    alt.X('year_published',\n",
    "          axis=alt.Axis(title=None),\n",
    "          scale=alt.Scale(zero=False)\n",
    "    ),\n",
    "    alt.Y('count()',\n",
    "         axis=alt.Axis(title='Count of Games Published',\n",
    "                      titleFontSize=12,\n",
    "                      offset=8,\n",
    "                      titleFontWeight=500)) \n",
    ").properties(\n",
    "    width=700,\n",
    "    height=200\n",
    "))\n",
    "\n",
    "alt.vconcat(pa1, pa2, pa3)"
   ]
  },
  {
   "cell_type": "markdown",
   "id": "amber-overall",
   "metadata": {},
   "source": [
    "Figure 1 indicates that the average rating of games based on published year increases steadily with time indicating that more recent games have higher ratings. The mean annual number of user ratings also appears to steadily increase based on published year. The figure indicates that there are some years that have a very high mean number of users rated; however, the count of games published indicates that these high values correspond with years that have very few games published. This likely corresponds with 'classic' games that are still heavily played and therefore have a high count of user ratings.\n",
    "\n",
    "Overall, it appears that more recent games are more popular based on both number of user ratings and average rating. There is a slight drop in the mean number of users rated for the most recent years in the dataset, but this is may be because most recently published games are not as available compared with games that are a few years old."
   ]
  },
  {
   "cell_type": "markdown",
   "id": "signal-breakfast",
   "metadata": {},
   "source": [
    "The nex analysis looks at the rating of  gameboard categories using the average game rating. Any game with a category count of less than 200 has been screened out."
   ]
  },
  {
   "cell_type": "code",
   "execution_count": null,
   "id": "superb-butter",
   "metadata": {},
   "outputs": [],
   "source": [
    "ch1 = (alt.Chart(category_ratings_df_cut).mark_boxplot().encode(\n",
    "    x=alt.X('average_rating'),\n",
    "    y=alt.Y('category', sort=category_by_rating),\n",
    "    size='count()',\n",
    "))\n",
    "\n",
    "ch2 = (alt.Chart(category_ratings_df_cut).mark_bar().encode(\n",
    "    x=alt.X('count()'),\n",
    "    y=alt.Y('category', sort=category_by_rating)\n",
    "))\n",
    "\n",
    "#ch3 = (alt.Chart(category_ratings_df_cut).mark_boxplot().encode(\n",
    "#    x=alt.X('users_rated', scale=alt.Scale(type='log')),\n",
    "#    y=alt.Y('category', sort=category_by_rating),\n",
    "#    size='count()'\n",
    "#))\n",
    "\n",
    "#ch1 | ch2 | ch3\n",
    "ch1 | ch2"
   ]
  },
  {
   "cell_type": "markdown",
   "id": "harmful-tractor",
   "metadata": {},
   "source": [
    "Draft comments: Miniatures, World War II, and Trains have the highest rating; whearas Triva represents the lowest game. Wargames, Fantasy and Cardgames have the highest counts and the boxplots indicate that these categories have a wide spread of rating with many higher average rating values.\n",
    "\n",
    "### For the above I think this is a general plot type that we want to go with - not sure if there's something else that can be done with it....need to remove "
   ]
  },
  {
   "cell_type": "code",
   "execution_count": null,
   "id": "nuclear-latitude",
   "metadata": {},
   "outputs": [],
   "source": [
    "cha = (alt.Chart(features_df).mark_bar().encode(\n",
    "    x=alt.Y('min_players'),\n",
    "    y=alt.X('count()'),  \n",
    "))\n",
    "\n",
    "chb = (alt.Chart(features_df).mark_bar(clip=True).encode(\n",
    "    x=alt.Y('max_players', scale=alt.Scale(domain=(0, 100))),\n",
    "    y=alt.X('count()', ),  \n",
    "))\n",
    "\n",
    "cha | chb"
   ]
  },
  {
   "cell_type": "code",
   "execution_count": null,
   "id": "fifteen-rally",
   "metadata": {},
   "outputs": [],
   "source": [
    "cha = (alt.Chart(features_df).mark_bar().encode(\n",
    "    x=alt.Y('min_playtime'),\n",
    "    y=alt.X('count()'),  \n",
    "))\n",
    "\n",
    "chb = (alt.Chart(features_df).mark_bar().encode(\n",
    "    x=alt.Y('max_playtime'),\n",
    "    y=alt.X('count()', ),  \n",
    "))\n",
    "\n",
    "cha | chb"
   ]
  },
  {
   "cell_type": "code",
   "execution_count": null,
   "id": "executed-spell",
   "metadata": {},
   "outputs": [],
   "source": []
  },
  {
   "cell_type": "code",
   "execution_count": null,
   "id": "located-adaptation",
   "metadata": {},
   "outputs": [],
   "source": [
    "# potentially do something like this - another option is doing two heatmap plots although it's somewhat nice to be able to see the counts\n",
    "\n",
    "the1 = alt.Chart(features_df_3).mark_rect().encode(\n",
    "    alt.X('min_playtime', bin=alt.Bin(maxbins=40)),\n",
    "    alt.Y('average_rating', bin=alt.Bin(maxbins=40)),\n",
    "alt.Color('count()'))\n",
    "\n",
    "the2 = alt.Chart(features_df_3).mark_rect().encode(\n",
    "    alt.X('max_playtime', bin=alt.Bin(maxbins=40)),\n",
    "    alt.Y('average_rating', bin=alt.Bin(maxbins=40)),\n",
    "alt.Color('count()'))\n",
    "\n",
    "num1 = (alt.Chart(features_df_2).mark_rect().encode(\n",
    "    alt.X('min_players', bin=alt.Bin(maxbins=10)),\n",
    "    alt.Y('average_rating', bin=alt.Bin(maxbins=10)),\n",
    "alt.Color('count()')))\n",
    "\n",
    "num2 = (alt.Chart(features_df_2).mark_rect().encode(\n",
    "    alt.X('max_players', bin=alt.Bin(maxbins=10)),\n",
    "    alt.Y('average_rating', bin=alt.Bin(maxbins=10)),\n",
    "alt.Color('count()')))\n",
    "\n",
    "(num1 | num2) & (the1 | the2)\n",
    "\n",
    "\n",
    "# just playing around with plots"
   ]
  },
  {
   "cell_type": "markdown",
   "id": "electric-vancouver",
   "metadata": {},
   "source": [
    "indicates that gameplay and number of players shouldn't really matter, there are more short games but the have a a higher spread in ratings, infact it looks like slightly longer games trend to having higher rating although there are less of them"
   ]
  },
  {
   "cell_type": "code",
   "execution_count": null,
   "id": "aggressive-minutes",
   "metadata": {},
   "outputs": [],
   "source": [
    "# another plot related to publishing data maybe"
   ]
  },
  {
   "cell_type": "code",
   "execution_count": null,
   "id": "fallen-boxing",
   "metadata": {},
   "outputs": [],
   "source": [
    "# potentially another plot with an aggregate of a few plots trying to at a subset of categories identified in the first plot tryihg to show some things"
   ]
  },
  {
   "cell_type": "markdown",
   "id": "sticky-folder",
   "metadata": {},
   "source": [
    "Figure (insert figure number) will look at the average number of categories board games have each year vs year."
   ]
  },
  {
   "cell_type": "code",
   "execution_count": null,
   "id": "subtle-deficit",
   "metadata": {},
   "outputs": [],
   "source": [
    "alt.Chart(number_of_categories).mark_circle(size=60).encode(\n",
    "    alt.X('year_published',\n",
    "        scale=alt.Scale(zero=False)\n",
    "    ),\n",
    "    y='mean(num_categories)'\n",
    ")"
   ]
  },
  {
   "cell_type": "markdown",
   "id": "aggregate-honduras",
   "metadata": {},
   "source": [
    "Using the number of categories a game falls under as a stand in for complexity. We can say that there is a lot of noise below 1960, but roughly 1960 onward there is a slight increase in the average game's complexity."
   ]
  },
  {
   "cell_type": "markdown",
   "id": "rough-terminology",
   "metadata": {},
   "source": [
    "Figure (insert figure number here) will look at the average number of mechanics board games have in a given year."
   ]
  },
  {
   "cell_type": "code",
   "execution_count": null,
   "id": "sustainable-conflict",
   "metadata": {},
   "outputs": [],
   "source": [
    "alt.Chart(number_of_mechanics).mark_circle(size=60).encode(\n",
    "    alt.X('year_published',\n",
    "        scale=alt.Scale(zero=False)\n",
    "    ),\n",
    "    alt.Y('mean(num_mechanics)',\n",
    "        scale=alt.Scale(zero=False)\n",
    "    )\n",
    ")"
   ]
  },
  {
   "cell_type": "markdown",
   "id": "manual-particular",
   "metadata": {},
   "source": [
    "This figure shows that there is a lot of noise between 1950 - 1990, but after 1990 there is a steady increase in the average number of mechanics a game has"
   ]
  },
  {
   "cell_type": "code",
   "execution_count": null,
   "id": "focused-oliver",
   "metadata": {},
   "outputs": [],
   "source": [
    "alt.Chart(number_of_categories).mark_bar().encode(\n",
    "    alt.X(\"num_categories:N\", bin=False),\n",
    "    y='count()',\n",
    "    facet=alt.Facet('decade:O', columns=3)\n",
    ")\n",
    "# SHould normalize??\n",
    "# Should turn into violins and put on a single plot"
   ]
  },
  {
   "cell_type": "code",
   "execution_count": null,
   "id": "exact-catalyst",
   "metadata": {},
   "outputs": [],
   "source": [
    "# alt.Chart(top_10_publishers_by_count).mark_bar().encode(\n",
    "#     alt.X(\"average_rating\", bin=False),\n",
    "#     y='count()',\n",
    "#     facet=alt.Facet('publisher', columns=3)\n",
    "# )\n",
    "\n",
    "\n",
    "alt.Chart(top_10_publishers_by_count).transform_density(\n",
    "    'average_rating',\n",
    "    as_=['average_rating', 'density'],\n",
    "    groupby=['publisher']\n",
    ").mark_area(orient='horizontal').encode(\n",
    "    y='average_rating:Q',\n",
    "    color='publisher:N',\n",
    "    x=alt.X(\n",
    "        'density:Q',\n",
    "        stack='center',\n",
    "        impute=None,\n",
    "        title=None,\n",
    "        axis=alt.Axis(labels=False, values=[0],grid=False, ticks=True),\n",
    "    ),\n",
    "    column=alt.Column(\n",
    "        'publisher:N',\n",
    "        header=alt.Header(\n",
    "            titleOrient='bottom',\n",
    "            labelOrient='bottom',\n",
    "            labelPadding=0,\n",
    "        ),\n",
    "    )\n",
    ").properties(\n",
    "    width=100\n",
    ").configure_facet(\n",
    "    spacing=0\n",
    ").configure_view(\n",
    "    stroke=None\n",
    ")\n",
    "# Title, top publishers by number of games published\n",
    "# Needs cleaning omg"
   ]
  },
  {
   "cell_type": "code",
   "execution_count": null,
   "id": "mathematical-syndication",
   "metadata": {},
   "outputs": [],
   "source": [
    "top_10_publishers_by_count"
   ]
  },
  {
   "cell_type": "markdown",
   "id": "exact-desert",
   "metadata": {},
   "source": [
    "## Step 8: Summary and Conclusion"
   ]
  },
  {
   "cell_type": "code",
   "execution_count": null,
   "id": "breathing-shadow",
   "metadata": {},
   "outputs": [],
   "source": []
  },
  {
   "cell_type": "markdown",
   "id": "annoying-spread",
   "metadata": {},
   "source": [
    "Follow up research questions:\n",
    "1) We used number of game mechanics and number of categories the games fall into as a proxy for game complexity. To further explore game complexity we would need different data sets that included things like \"number of pages in the rule book\", \"weight of the game in its box\", or \"number of pieces included\". There may also exist a dataset with a subjective (like score) rating of a games complexity."
   ]
  },
  {
   "cell_type": "code",
   "execution_count": null,
   "id": "affecting-ministry",
   "metadata": {},
   "outputs": [],
   "source": []
  }
 ],
 "metadata": {
  "kernelspec": {
   "display_name": "Python 3",
   "language": "python",
   "name": "python3"
  },
  "language_info": {
   "codemirror_mode": {
    "name": "ipython",
    "version": 3
   },
   "file_extension": ".py",
   "mimetype": "text/x-python",
   "name": "python",
   "nbconvert_exporter": "python",
   "pygments_lexer": "ipython3",
   "version": "3.8.5"
  }
 },
 "nbformat": 4,
 "nbformat_minor": 5
}
