{
 "cells": [
  {
   "cell_type": "markdown",
   "id": "cardiovascular-atlantic",
   "metadata": {},
   "source": [
    "# DATA 550 Mini-Project 2\n",
    "\n",
    "- Group 14: Nathan Smith / Mitch Harris\n",
    "- Date: Feb 11, 2021"
   ]
  },
  {
   "cell_type": "code",
   "execution_count": 2,
   "id": "silent-respondent",
   "metadata": {},
   "outputs": [
    {
     "data": {
      "text/plain": [
       "DataTransformerRegistry.enable('data_server')"
      ]
     },
     "execution_count": 2,
     "metadata": {},
     "output_type": "execute_result"
    }
   ],
   "source": [
    "import pandas as pd\n",
    "import altair as alt\n",
    "\n",
    "# Save a vega-lite spec and a PNG blob for each plot in the notebook\n",
    "alt.renderers.enable('mimetype')\n",
    "# Handle large data sets without embedding them in the notebook\n",
    "alt.data_transformers.enable('data_server')"
   ]
  },
  {
   "cell_type": "markdown",
   "id": "ultimate-sauce",
   "metadata": {},
   "source": [
    "## Step 1: Describe the Dataset"
   ]
  },
  {
   "cell_type": "markdown",
   "id": "identical-application",
   "metadata": {},
   "source": [
    "The boardgame dataset includes dgames with their descriptions, general game details, and user ratings from the [Board Game Geek website](http://boardgamegeek.com/). \n",
    "\n",
    "The dataset was obtained from the R4DS TidyTuesday 2019-03-12 Github repository: https://github.com/rfordatascience/tidytuesday/tree/master/data/2019/2019-03-12. As described in the repository, the data comes from the Board Game Geek website database and general cleaning of the dataset has already been completed. The general cleaning limited the dataset to games with at least 50 ratings and for games between 1950 and 2016. The repository notes that this was done to follow a previous analysis completed by [fivethirtyeight](https://fivethirtyeight.com/features/designing-the-best-board-game-on-the-planet/).\n",
    "\n",
    "The dataset columns descriptions as provided in the Github repository are as follows:\n",
    "\n",
    "|variable       |class     |description |\n",
    "|:--------------|:---------|:-----------|\n",
    "|game_id        |character | Unique game identifier         |\n",
    "|description    |character | A paragraph of text describing the game       |\n",
    "|image          |character | URL image of the game            |\n",
    "|max_players    |integer   | Maximum recommended players           |\n",
    "|max_playtime   |integer   | Maximum recommended playtime (min)           |\n",
    "|min_age        |integer   | Minimum recommended age          |\n",
    "|min_players    |integer   | Minimum recommended players         |\n",
    "|min_playtime   |integer   | Minimum recommended playtime (min)           |\n",
    "|name           |character | Name of the game           |\n",
    "|playing_time   |integer   | Average playtime           |\n",
    "|thumbnail      |character | URL thumbnail of the game           |\n",
    "|year_published |integer   | Year game was published           |\n",
    "|artist         |character | Artist for game art           |\n",
    "|category       |character | Categories for the game (separated by commas)           |\n",
    "|compilation    |character | If part of a multi-compilation - name of compilation           |\n",
    "|designer       |character | Game designer           |\n",
    "|expansion      |character | If there is an expansion pack - name of expansion           |\n",
    "|family         |character | Family of game - equivalent to a publisher          |\n",
    "|mechanic       |character | Game mechanic - how game is played, separated by comma         |\n",
    "|publisher      |character | Comoany/person who published the game, separated by comma        |\n",
    "|average_rating |double    | Average rating on Board Games Geek (1-10)        |\n",
    "|users_rated    |double    | Number of users that rated the game           |  "
   ]
  },
  {
   "cell_type": "markdown",
   "id": "stone-republic",
   "metadata": {},
   "source": [
    "# Step 2: Load the Dataset"
   ]
  },
  {
   "cell_type": "code",
   "execution_count": 5,
   "id": "cathedral-trust",
   "metadata": {},
   "outputs": [],
   "source": [
    "boardgame_data = pd.read_csv('board_games.csv')"
   ]
  },
  {
   "cell_type": "code",
   "execution_count": null,
   "id": "african-workshop",
   "metadata": {},
   "outputs": [],
   "source": [
    "Provide a view of the dataframe:"
   ]
  },
  {
   "cell_type": "code",
   "execution_count": 6,
   "id": "legendary-groove",
   "metadata": {},
   "outputs": [
    {
     "data": {
      "text/html": [
       "<div>\n",
       "<style scoped>\n",
       "    .dataframe tbody tr th:only-of-type {\n",
       "        vertical-align: middle;\n",
       "    }\n",
       "\n",
       "    .dataframe tbody tr th {\n",
       "        vertical-align: top;\n",
       "    }\n",
       "\n",
       "    .dataframe thead th {\n",
       "        text-align: right;\n",
       "    }\n",
       "</style>\n",
       "<table border=\"1\" class=\"dataframe\">\n",
       "  <thead>\n",
       "    <tr style=\"text-align: right;\">\n",
       "      <th></th>\n",
       "      <th>game_id</th>\n",
       "      <th>description</th>\n",
       "      <th>image</th>\n",
       "      <th>max_players</th>\n",
       "      <th>max_playtime</th>\n",
       "      <th>min_age</th>\n",
       "      <th>min_players</th>\n",
       "      <th>min_playtime</th>\n",
       "      <th>name</th>\n",
       "      <th>playing_time</th>\n",
       "      <th>...</th>\n",
       "      <th>artist</th>\n",
       "      <th>category</th>\n",
       "      <th>compilation</th>\n",
       "      <th>designer</th>\n",
       "      <th>expansion</th>\n",
       "      <th>family</th>\n",
       "      <th>mechanic</th>\n",
       "      <th>publisher</th>\n",
       "      <th>average_rating</th>\n",
       "      <th>users_rated</th>\n",
       "    </tr>\n",
       "  </thead>\n",
       "  <tbody>\n",
       "    <tr>\n",
       "      <th>0</th>\n",
       "      <td>1</td>\n",
       "      <td>Die Macher is a game about seven sequential po...</td>\n",
       "      <td>//cf.geekdo-images.com/images/pic159509.jpg</td>\n",
       "      <td>5</td>\n",
       "      <td>240</td>\n",
       "      <td>14</td>\n",
       "      <td>3</td>\n",
       "      <td>240</td>\n",
       "      <td>Die Macher</td>\n",
       "      <td>240</td>\n",
       "      <td>...</td>\n",
       "      <td>Marcus Gschwendtner</td>\n",
       "      <td>Economic,Negotiation,Political</td>\n",
       "      <td>NaN</td>\n",
       "      <td>Karl-Heinz Schmiel</td>\n",
       "      <td>NaN</td>\n",
       "      <td>Country: Germany,Valley Games Classic Line</td>\n",
       "      <td>Area Control / Area Influence,Auction/Bidding,...</td>\n",
       "      <td>Hans im Glück Verlags-GmbH,Moskito Spiele,Vall...</td>\n",
       "      <td>7.66508</td>\n",
       "      <td>4498</td>\n",
       "    </tr>\n",
       "    <tr>\n",
       "      <th>1</th>\n",
       "      <td>2</td>\n",
       "      <td>Dragonmaster is a trick-taking card game based...</td>\n",
       "      <td>//cf.geekdo-images.com/images/pic184174.jpg</td>\n",
       "      <td>4</td>\n",
       "      <td>30</td>\n",
       "      <td>12</td>\n",
       "      <td>3</td>\n",
       "      <td>30</td>\n",
       "      <td>Dragonmaster</td>\n",
       "      <td>30</td>\n",
       "      <td>...</td>\n",
       "      <td>Bob Pepper</td>\n",
       "      <td>Card Game,Fantasy</td>\n",
       "      <td>NaN</td>\n",
       "      <td>G. W. \"Jerry\" D'Arcey</td>\n",
       "      <td>NaN</td>\n",
       "      <td>Animals: Dragons</td>\n",
       "      <td>Trick-taking</td>\n",
       "      <td>E.S. Lowe,Milton Bradley</td>\n",
       "      <td>6.60815</td>\n",
       "      <td>478</td>\n",
       "    </tr>\n",
       "    <tr>\n",
       "      <th>2</th>\n",
       "      <td>3</td>\n",
       "      <td>Part of the Knizia tile-laying trilogy, Samura...</td>\n",
       "      <td>//cf.geekdo-images.com/images/pic3211873.jpg</td>\n",
       "      <td>4</td>\n",
       "      <td>60</td>\n",
       "      <td>10</td>\n",
       "      <td>2</td>\n",
       "      <td>30</td>\n",
       "      <td>Samurai</td>\n",
       "      <td>60</td>\n",
       "      <td>...</td>\n",
       "      <td>Franz Vohwinkel</td>\n",
       "      <td>Abstract Strategy,Medieval</td>\n",
       "      <td>NaN</td>\n",
       "      <td>Reiner Knizia</td>\n",
       "      <td>NaN</td>\n",
       "      <td>Asian Theme,Country: Japan,Knizia tile-laying ...</td>\n",
       "      <td>Area Control / Area Influence,Hand Management,...</td>\n",
       "      <td>999 Games,ABACUSSPIELE,Astrel Games,Ceilikan J...</td>\n",
       "      <td>7.44119</td>\n",
       "      <td>12019</td>\n",
       "    </tr>\n",
       "    <tr>\n",
       "      <th>3</th>\n",
       "      <td>4</td>\n",
       "      <td>When you see the triangular box and the luxuri...</td>\n",
       "      <td>//cf.geekdo-images.com/images/pic285299.jpg</td>\n",
       "      <td>4</td>\n",
       "      <td>60</td>\n",
       "      <td>12</td>\n",
       "      <td>2</td>\n",
       "      <td>60</td>\n",
       "      <td>Tal der Könige</td>\n",
       "      <td>60</td>\n",
       "      <td>...</td>\n",
       "      <td>NaN</td>\n",
       "      <td>Ancient</td>\n",
       "      <td>NaN</td>\n",
       "      <td>Christian Beierer</td>\n",
       "      <td>NaN</td>\n",
       "      <td>Country: Egypt,Promotional Board Games</td>\n",
       "      <td>Action Point Allowance System,Area Control / A...</td>\n",
       "      <td>KOSMOS</td>\n",
       "      <td>6.60675</td>\n",
       "      <td>314</td>\n",
       "    </tr>\n",
       "    <tr>\n",
       "      <th>4</th>\n",
       "      <td>5</td>\n",
       "      <td>In Acquire, each player strategically invests ...</td>\n",
       "      <td>//cf.geekdo-images.com/images/pic342163.jpg</td>\n",
       "      <td>6</td>\n",
       "      <td>90</td>\n",
       "      <td>12</td>\n",
       "      <td>3</td>\n",
       "      <td>90</td>\n",
       "      <td>Acquire</td>\n",
       "      <td>90</td>\n",
       "      <td>...</td>\n",
       "      <td>Scott Okumura,Peter Whitley</td>\n",
       "      <td>Economic</td>\n",
       "      <td>NaN</td>\n",
       "      <td>Sid Sackson</td>\n",
       "      <td>NaN</td>\n",
       "      <td>3M Bookshelf Series</td>\n",
       "      <td>Hand Management,Stock Holding,Tile Placement</td>\n",
       "      <td>3M,Avalon Hill,Avalon Hill (Hasbro),Dujardin,G...</td>\n",
       "      <td>7.35830</td>\n",
       "      <td>15195</td>\n",
       "    </tr>\n",
       "  </tbody>\n",
       "</table>\n",
       "<p>5 rows × 22 columns</p>\n",
       "</div>"
      ],
      "text/plain": [
       "   game_id                                        description  \\\n",
       "0        1  Die Macher is a game about seven sequential po...   \n",
       "1        2  Dragonmaster is a trick-taking card game based...   \n",
       "2        3  Part of the Knizia tile-laying trilogy, Samura...   \n",
       "3        4  When you see the triangular box and the luxuri...   \n",
       "4        5  In Acquire, each player strategically invests ...   \n",
       "\n",
       "                                          image  max_players  max_playtime  \\\n",
       "0   //cf.geekdo-images.com/images/pic159509.jpg            5           240   \n",
       "1   //cf.geekdo-images.com/images/pic184174.jpg            4            30   \n",
       "2  //cf.geekdo-images.com/images/pic3211873.jpg            4            60   \n",
       "3   //cf.geekdo-images.com/images/pic285299.jpg            4            60   \n",
       "4   //cf.geekdo-images.com/images/pic342163.jpg            6            90   \n",
       "\n",
       "   min_age  min_players  min_playtime            name  playing_time  ...  \\\n",
       "0       14            3           240      Die Macher           240  ...   \n",
       "1       12            3            30    Dragonmaster            30  ...   \n",
       "2       10            2            30         Samurai            60  ...   \n",
       "3       12            2            60  Tal der Könige            60  ...   \n",
       "4       12            3            90         Acquire            90  ...   \n",
       "\n",
       "                        artist                        category compilation  \\\n",
       "0          Marcus Gschwendtner  Economic,Negotiation,Political         NaN   \n",
       "1                   Bob Pepper               Card Game,Fantasy         NaN   \n",
       "2              Franz Vohwinkel      Abstract Strategy,Medieval         NaN   \n",
       "3                          NaN                         Ancient         NaN   \n",
       "4  Scott Okumura,Peter Whitley                        Economic         NaN   \n",
       "\n",
       "                designer expansion  \\\n",
       "0     Karl-Heinz Schmiel       NaN   \n",
       "1  G. W. \"Jerry\" D'Arcey       NaN   \n",
       "2          Reiner Knizia       NaN   \n",
       "3      Christian Beierer       NaN   \n",
       "4            Sid Sackson       NaN   \n",
       "\n",
       "                                              family  \\\n",
       "0         Country: Germany,Valley Games Classic Line   \n",
       "1                                   Animals: Dragons   \n",
       "2  Asian Theme,Country: Japan,Knizia tile-laying ...   \n",
       "3             Country: Egypt,Promotional Board Games   \n",
       "4                                3M Bookshelf Series   \n",
       "\n",
       "                                            mechanic  \\\n",
       "0  Area Control / Area Influence,Auction/Bidding,...   \n",
       "1                                       Trick-taking   \n",
       "2  Area Control / Area Influence,Hand Management,...   \n",
       "3  Action Point Allowance System,Area Control / A...   \n",
       "4       Hand Management,Stock Holding,Tile Placement   \n",
       "\n",
       "                                           publisher average_rating  \\\n",
       "0  Hans im Glück Verlags-GmbH,Moskito Spiele,Vall...        7.66508   \n",
       "1                           E.S. Lowe,Milton Bradley        6.60815   \n",
       "2  999 Games,ABACUSSPIELE,Astrel Games,Ceilikan J...        7.44119   \n",
       "3                                             KOSMOS        6.60675   \n",
       "4  3M,Avalon Hill,Avalon Hill (Hasbro),Dujardin,G...        7.35830   \n",
       "\n",
       "  users_rated  \n",
       "0        4498  \n",
       "1         478  \n",
       "2       12019  \n",
       "3         314  \n",
       "4       15195  \n",
       "\n",
       "[5 rows x 22 columns]"
      ]
     },
     "execution_count": 6,
     "metadata": {},
     "output_type": "execute_result"
    }
   ],
   "source": [
    "boardgame_data.head()"
   ]
  },
  {
   "cell_type": "code",
   "execution_count": 9,
   "id": "downtown-immunology",
   "metadata": {},
   "outputs": [
    {
     "name": "stdout",
     "output_type": "stream",
     "text": [
      "<class 'pandas.core.frame.DataFrame'>\n",
      "RangeIndex: 10532 entries, 0 to 10531\n",
      "Data columns (total 22 columns):\n",
      " #   Column          Non-Null Count  Dtype  \n",
      "---  ------          --------------  -----  \n",
      " 0   game_id         10532 non-null  int64  \n",
      " 1   description     10532 non-null  object \n",
      " 2   image           10531 non-null  object \n",
      " 3   max_players     10532 non-null  int64  \n",
      " 4   max_playtime    10532 non-null  int64  \n",
      " 5   min_age         10532 non-null  int64  \n",
      " 6   min_players     10532 non-null  int64  \n",
      " 7   min_playtime    10532 non-null  int64  \n",
      " 8   name            10532 non-null  object \n",
      " 9   playing_time    10532 non-null  int64  \n",
      " 10  thumbnail       10531 non-null  object \n",
      " 11  year_published  10532 non-null  int64  \n",
      " 12  artist          7759 non-null   object \n",
      " 13  category        10438 non-null  object \n",
      " 14  compilation     410 non-null    object \n",
      " 15  designer        10406 non-null  object \n",
      " 16  expansion       2752 non-null   object \n",
      " 17  family          7724 non-null   object \n",
      " 18  mechanic        9582 non-null   object \n",
      " 19  publisher       10529 non-null  object \n",
      " 20  average_rating  10532 non-null  float64\n",
      " 21  users_rated     10532 non-null  int64  \n",
      "dtypes: float64(1), int64(9), object(12)\n",
      "memory usage: 1.8+ MB\n"
     ]
    }
   ],
   "source": [
    "boardgame_data.info()"
   ]
  },
  {
   "cell_type": "markdown",
   "id": "smart-olive",
   "metadata": {},
   "source": [
    "## Step 3: Explore the Dataset"
   ]
  },
  {
   "cell_type": "markdown",
   "id": "extraordinary-excellence",
   "metadata": {},
   "source": [
    "The view of the dataset from Step 2 shows that many of the categororical features (such as 'category', 'mechanic', and 'family') include multiple values for each entry. As such, these features may need to have their observations exploded during the analysis."
   ]
  },
  {
   "cell_type": "markdown",
   "id": "victorian-valentine",
   "metadata": {},
   "source": [
    "Now, look at a summary of the numerical columns in the dataset for reference during the EDA:"
   ]
  },
  {
   "cell_type": "code",
   "execution_count": 11,
   "id": "velvet-burden",
   "metadata": {},
   "outputs": [
    {
     "data": {
      "text/html": [
       "<div>\n",
       "<style scoped>\n",
       "    .dataframe tbody tr th:only-of-type {\n",
       "        vertical-align: middle;\n",
       "    }\n",
       "\n",
       "    .dataframe tbody tr th {\n",
       "        vertical-align: top;\n",
       "    }\n",
       "\n",
       "    .dataframe thead th {\n",
       "        text-align: right;\n",
       "    }\n",
       "</style>\n",
       "<table border=\"1\" class=\"dataframe\">\n",
       "  <thead>\n",
       "    <tr style=\"text-align: right;\">\n",
       "      <th></th>\n",
       "      <th>game_id</th>\n",
       "      <th>max_players</th>\n",
       "      <th>max_playtime</th>\n",
       "      <th>min_age</th>\n",
       "      <th>min_players</th>\n",
       "      <th>min_playtime</th>\n",
       "      <th>playing_time</th>\n",
       "      <th>year_published</th>\n",
       "      <th>average_rating</th>\n",
       "      <th>users_rated</th>\n",
       "    </tr>\n",
       "  </thead>\n",
       "  <tbody>\n",
       "    <tr>\n",
       "      <th>count</th>\n",
       "      <td>10532.000000</td>\n",
       "      <td>10532.000000</td>\n",
       "      <td>10532.000000</td>\n",
       "      <td>10532.000000</td>\n",
       "      <td>10532.000000</td>\n",
       "      <td>10532.000000</td>\n",
       "      <td>10532.000000</td>\n",
       "      <td>10532.000000</td>\n",
       "      <td>10532.000000</td>\n",
       "      <td>10532.000000</td>\n",
       "    </tr>\n",
       "    <tr>\n",
       "      <th>mean</th>\n",
       "      <td>62059.203095</td>\n",
       "      <td>5.657330</td>\n",
       "      <td>91.341436</td>\n",
       "      <td>9.714964</td>\n",
       "      <td>2.070547</td>\n",
       "      <td>80.882738</td>\n",
       "      <td>91.341436</td>\n",
       "      <td>2003.070832</td>\n",
       "      <td>6.370856</td>\n",
       "      <td>870.081466</td>\n",
       "    </tr>\n",
       "    <tr>\n",
       "      <th>std</th>\n",
       "      <td>66223.716828</td>\n",
       "      <td>18.884403</td>\n",
       "      <td>659.754400</td>\n",
       "      <td>3.451226</td>\n",
       "      <td>0.664394</td>\n",
       "      <td>637.873893</td>\n",
       "      <td>659.754400</td>\n",
       "      <td>12.278296</td>\n",
       "      <td>0.850364</td>\n",
       "      <td>2880.214998</td>\n",
       "    </tr>\n",
       "    <tr>\n",
       "      <th>min</th>\n",
       "      <td>1.000000</td>\n",
       "      <td>0.000000</td>\n",
       "      <td>0.000000</td>\n",
       "      <td>0.000000</td>\n",
       "      <td>0.000000</td>\n",
       "      <td>0.000000</td>\n",
       "      <td>0.000000</td>\n",
       "      <td>1950.000000</td>\n",
       "      <td>1.384210</td>\n",
       "      <td>50.000000</td>\n",
       "    </tr>\n",
       "    <tr>\n",
       "      <th>25%</th>\n",
       "      <td>5444.500000</td>\n",
       "      <td>4.000000</td>\n",
       "      <td>30.000000</td>\n",
       "      <td>8.000000</td>\n",
       "      <td>2.000000</td>\n",
       "      <td>25.000000</td>\n",
       "      <td>30.000000</td>\n",
       "      <td>1998.000000</td>\n",
       "      <td>5.829585</td>\n",
       "      <td>85.000000</td>\n",
       "    </tr>\n",
       "    <tr>\n",
       "      <th>50%</th>\n",
       "      <td>28822.500000</td>\n",
       "      <td>4.000000</td>\n",
       "      <td>45.000000</td>\n",
       "      <td>10.000000</td>\n",
       "      <td>2.000000</td>\n",
       "      <td>45.000000</td>\n",
       "      <td>45.000000</td>\n",
       "      <td>2007.000000</td>\n",
       "      <td>6.392965</td>\n",
       "      <td>176.000000</td>\n",
       "    </tr>\n",
       "    <tr>\n",
       "      <th>75%</th>\n",
       "      <td>126409.500000</td>\n",
       "      <td>6.000000</td>\n",
       "      <td>90.000000</td>\n",
       "      <td>12.000000</td>\n",
       "      <td>2.000000</td>\n",
       "      <td>90.000000</td>\n",
       "      <td>90.000000</td>\n",
       "      <td>2012.000000</td>\n",
       "      <td>6.942675</td>\n",
       "      <td>518.000000</td>\n",
       "    </tr>\n",
       "    <tr>\n",
       "      <th>max</th>\n",
       "      <td>216725.000000</td>\n",
       "      <td>999.000000</td>\n",
       "      <td>60000.000000</td>\n",
       "      <td>42.000000</td>\n",
       "      <td>9.000000</td>\n",
       "      <td>60000.000000</td>\n",
       "      <td>60000.000000</td>\n",
       "      <td>2016.000000</td>\n",
       "      <td>9.003920</td>\n",
       "      <td>67655.000000</td>\n",
       "    </tr>\n",
       "  </tbody>\n",
       "</table>\n",
       "</div>"
      ],
      "text/plain": [
       "             game_id   max_players  max_playtime       min_age   min_players  \\\n",
       "count   10532.000000  10532.000000  10532.000000  10532.000000  10532.000000   \n",
       "mean    62059.203095      5.657330     91.341436      9.714964      2.070547   \n",
       "std     66223.716828     18.884403    659.754400      3.451226      0.664394   \n",
       "min         1.000000      0.000000      0.000000      0.000000      0.000000   \n",
       "25%      5444.500000      4.000000     30.000000      8.000000      2.000000   \n",
       "50%     28822.500000      4.000000     45.000000     10.000000      2.000000   \n",
       "75%    126409.500000      6.000000     90.000000     12.000000      2.000000   \n",
       "max    216725.000000    999.000000  60000.000000     42.000000      9.000000   \n",
       "\n",
       "       min_playtime  playing_time  year_published  average_rating  \\\n",
       "count  10532.000000  10532.000000    10532.000000    10532.000000   \n",
       "mean      80.882738     91.341436     2003.070832        6.370856   \n",
       "std      637.873893    659.754400       12.278296        0.850364   \n",
       "min        0.000000      0.000000     1950.000000        1.384210   \n",
       "25%       25.000000     30.000000     1998.000000        5.829585   \n",
       "50%       45.000000     45.000000     2007.000000        6.392965   \n",
       "75%       90.000000     90.000000     2012.000000        6.942675   \n",
       "max    60000.000000  60000.000000     2016.000000        9.003920   \n",
       "\n",
       "        users_rated  \n",
       "count  10532.000000  \n",
       "mean     870.081466  \n",
       "std     2880.214998  \n",
       "min       50.000000  \n",
       "25%       85.000000  \n",
       "50%      176.000000  \n",
       "75%      518.000000  \n",
       "max    67655.000000  "
      ]
     },
     "execution_count": 11,
     "metadata": {},
     "output_type": "execute_result"
    }
   ],
   "source": [
    "boardgame_data.describe()"
   ]
  },
  {
   "cell_type": "markdown",
   "id": "colonial-distributor",
   "metadata": {},
   "source": [
    "Also look at the number of missing values in the dataset:"
   ]
  },
  {
   "cell_type": "code",
   "execution_count": 33,
   "id": "cloudy-pavilion",
   "metadata": {},
   "outputs": [
    {
     "name": "stdout",
     "output_type": "stream",
     "text": [
      "Dataset length:  10532\n"
     ]
    },
    {
     "data": {
      "text/html": [
       "<div>\n",
       "<style scoped>\n",
       "    .dataframe tbody tr th:only-of-type {\n",
       "        vertical-align: middle;\n",
       "    }\n",
       "\n",
       "    .dataframe tbody tr th {\n",
       "        vertical-align: top;\n",
       "    }\n",
       "\n",
       "    .dataframe thead th {\n",
       "        text-align: right;\n",
       "    }\n",
       "</style>\n",
       "<table border=\"1\" class=\"dataframe\">\n",
       "  <thead>\n",
       "    <tr style=\"text-align: right;\">\n",
       "      <th></th>\n",
       "      <th>count_na</th>\n",
       "      <th>percent_na</th>\n",
       "    </tr>\n",
       "  </thead>\n",
       "  <tbody>\n",
       "    <tr>\n",
       "      <th>game_id</th>\n",
       "      <td>0</td>\n",
       "      <td>0.000000</td>\n",
       "    </tr>\n",
       "    <tr>\n",
       "      <th>description</th>\n",
       "      <td>0</td>\n",
       "      <td>0.000000</td>\n",
       "    </tr>\n",
       "    <tr>\n",
       "      <th>image</th>\n",
       "      <td>1</td>\n",
       "      <td>0.009495</td>\n",
       "    </tr>\n",
       "    <tr>\n",
       "      <th>max_players</th>\n",
       "      <td>0</td>\n",
       "      <td>0.000000</td>\n",
       "    </tr>\n",
       "    <tr>\n",
       "      <th>max_playtime</th>\n",
       "      <td>0</td>\n",
       "      <td>0.000000</td>\n",
       "    </tr>\n",
       "    <tr>\n",
       "      <th>min_age</th>\n",
       "      <td>0</td>\n",
       "      <td>0.000000</td>\n",
       "    </tr>\n",
       "    <tr>\n",
       "      <th>min_players</th>\n",
       "      <td>0</td>\n",
       "      <td>0.000000</td>\n",
       "    </tr>\n",
       "    <tr>\n",
       "      <th>min_playtime</th>\n",
       "      <td>0</td>\n",
       "      <td>0.000000</td>\n",
       "    </tr>\n",
       "    <tr>\n",
       "      <th>name</th>\n",
       "      <td>0</td>\n",
       "      <td>0.000000</td>\n",
       "    </tr>\n",
       "    <tr>\n",
       "      <th>playing_time</th>\n",
       "      <td>0</td>\n",
       "      <td>0.000000</td>\n",
       "    </tr>\n",
       "    <tr>\n",
       "      <th>thumbnail</th>\n",
       "      <td>1</td>\n",
       "      <td>0.009495</td>\n",
       "    </tr>\n",
       "    <tr>\n",
       "      <th>year_published</th>\n",
       "      <td>0</td>\n",
       "      <td>0.000000</td>\n",
       "    </tr>\n",
       "    <tr>\n",
       "      <th>artist</th>\n",
       "      <td>2773</td>\n",
       "      <td>26.329282</td>\n",
       "    </tr>\n",
       "    <tr>\n",
       "      <th>category</th>\n",
       "      <td>94</td>\n",
       "      <td>0.892518</td>\n",
       "    </tr>\n",
       "    <tr>\n",
       "      <th>compilation</th>\n",
       "      <td>10122</td>\n",
       "      <td>96.107102</td>\n",
       "    </tr>\n",
       "    <tr>\n",
       "      <th>designer</th>\n",
       "      <td>126</td>\n",
       "      <td>1.196354</td>\n",
       "    </tr>\n",
       "    <tr>\n",
       "      <th>expansion</th>\n",
       "      <td>7780</td>\n",
       "      <td>73.870110</td>\n",
       "    </tr>\n",
       "    <tr>\n",
       "      <th>family</th>\n",
       "      <td>2808</td>\n",
       "      <td>26.661603</td>\n",
       "    </tr>\n",
       "    <tr>\n",
       "      <th>mechanic</th>\n",
       "      <td>950</td>\n",
       "      <td>9.020129</td>\n",
       "    </tr>\n",
       "    <tr>\n",
       "      <th>publisher</th>\n",
       "      <td>3</td>\n",
       "      <td>0.028485</td>\n",
       "    </tr>\n",
       "    <tr>\n",
       "      <th>average_rating</th>\n",
       "      <td>0</td>\n",
       "      <td>0.000000</td>\n",
       "    </tr>\n",
       "    <tr>\n",
       "      <th>users_rated</th>\n",
       "      <td>0</td>\n",
       "      <td>0.000000</td>\n",
       "    </tr>\n",
       "  </tbody>\n",
       "</table>\n",
       "</div>"
      ],
      "text/plain": [
       "                count_na  percent_na\n",
       "game_id                0    0.000000\n",
       "description            0    0.000000\n",
       "image                  1    0.009495\n",
       "max_players            0    0.000000\n",
       "max_playtime           0    0.000000\n",
       "min_age                0    0.000000\n",
       "min_players            0    0.000000\n",
       "min_playtime           0    0.000000\n",
       "name                   0    0.000000\n",
       "playing_time           0    0.000000\n",
       "thumbnail              1    0.009495\n",
       "year_published         0    0.000000\n",
       "artist              2773   26.329282\n",
       "category              94    0.892518\n",
       "compilation        10122   96.107102\n",
       "designer             126    1.196354\n",
       "expansion           7780   73.870110\n",
       "family              2808   26.661603\n",
       "mechanic             950    9.020129\n",
       "publisher              3    0.028485\n",
       "average_rating         0    0.000000\n",
       "users_rated            0    0.000000"
      ]
     },
     "execution_count": 33,
     "metadata": {},
     "output_type": "execute_result"
    }
   ],
   "source": [
    "len_df = len(boardgame_data)\n",
    "print('Dataset length: ', len_df)\n",
    "na_totals = boardgame_data.isnull().sum()\n",
    "na_percent = na_totals / len_df * 100\n",
    "na_df = pd.concat([na_totals, na_percent], axis=1)\n",
    "na_df.columns = ['count_na', 'percent_na']\n",
    "na_df"
   ]
  },
  {
   "cell_type": "markdown",
   "id": "statistical-exclusive",
   "metadata": {},
   "source": [
    "The missing data summary shows the following:\n",
    "- Game detail features (minimum age, minimum number of player, etc) and year published are not missing any data.\n",
    "- Rating features are not missing data which is a function of the cleaning already completed for the dataset.\n",
    "- The compilation' and expansion features are missing values for most of the dataframe. However, the dataset descriptions for these columns note that they're for games that belong to compilations or have an expansion pack; therefore the lack of data may not just be due to missing values but from the fact that they do not have these.\n",
    "- Game category is missing a very small number of entries such that it should not have a large impact on an anlaysis.\n",
    "- There are are moderate number of missing entries for game family, mechanic which will need to be kept in mind during the analysis.\n",
    "- There are a high number of missing values for artist' and designer but there are almost no missing data for publisher."
   ]
  },
  {
   "cell_type": "markdown",
   "id": "permanent-candidate",
   "metadata": {},
   "source": [
    "## Step 4: Initial Thoughts"
   ]
  },
  {
   "cell_type": "markdown",
   "id": "electoral-cradle",
   "metadata": {},
   "source": [
    "Initial thoughts on the dataset include:\n",
    "\n",
    "- The game details features are complete in the dataset but from a quick view of the numeric summaries, there are values that may be erroneous and require filtering during wrangling or visualizations. For example, the 'max_players' feature has a maximum value of 999 nd 'min_age' has a maximum value of 42.\n",
    "- The dataset ranges from 1950 to 2016 but the 50th percentile for 'year_published' is 2007 indicating the most of the games in the dataset are more recent. This could be due to a higher number of games published more recently or due to lack of information/availability of older games which seems more likely.\n",
    "- 'artist' and 'designer' should potentially be dropped from the dataset as they have a much higher number of missing values compared with 'publisher'.\n",
    "- If looking to analyze'mechanic' or 'family', the higher number of missing values will need to be kept in mind during the analysis.\n",
    "- There appears to be a reasonable distribution from approxmately 1 to 10 in the 'user_rating' feature but there is a high range in the 'users_rated' feature with values from a minimum of 50 to a maximum of over 65,000."
   ]
  },
  {
   "cell_type": "code",
   "execution_count": null,
   "id": "pregnant-gnome",
   "metadata": {},
   "outputs": [],
   "source": []
  },
  {
   "cell_type": "markdown",
   "id": "protected-civilization",
   "metadata": {},
   "source": [
    "## Step 5: Wrangling"
   ]
  },
  {
   "cell_type": "code",
   "execution_count": null,
   "id": "mental-phase",
   "metadata": {},
   "outputs": [],
   "source": [
    "# Add wrangling as required to support Step 7 on an as needed basis to avoid useless wrangling"
   ]
  },
  {
   "cell_type": "markdown",
   "id": "careful-trailer",
   "metadata": {},
   "source": [
    "The following wrangling has been completed to support the data visualization complete in Step 7:"
   ]
  },
  {
   "cell_type": "code",
   "execution_count": null,
   "id": "minimal-lebanon",
   "metadata": {},
   "outputs": [],
   "source": [
    "# Explode game categories"
   ]
  },
  {
   "cell_type": "code",
   "execution_count": 49,
   "id": "reserved-tolerance",
   "metadata": {},
   "outputs": [],
   "source": [
    "category_ratings_df = boardgame_data.copy()\n",
    "category_ratings_df['category'] = category_ratings_df['category'].str.split(\",\")\n",
    "category_ratings_df = category_ratings_df.explode('category')\n",
    "category_ratings_df.head()"
   ]
  },
  {
   "cell_type": "code",
   "execution_count": 84,
   "id": "centered-conducting",
   "metadata": {},
   "outputs": [],
   "source": [
    "category_ratings_df_cut = category_ratings_df.groupby('category').filter(lambda x: len(x) > 200)"
   ]
  },
  {
   "cell_type": "code",
   "execution_count": 86,
   "id": "straight-single",
   "metadata": {},
   "outputs": [],
   "source": [
    "category_by_rating = category_ratings_df_cut.groupby('category')[\"average_rating\"].median().sort_values(ascending=False).index.to_list()"
   ]
  },
  {
   "cell_type": "code",
   "execution_count": null,
   "id": "casual-turkey",
   "metadata": {},
   "outputs": [],
   "source": [
    "# wrangling on dataset that looks at game features (min/max players etc), maybe create a new feature which is player range (2-4 players etc)\n",
    "# likely bin playtime"
   ]
  },
  {
   "cell_type": "code",
   "execution_count": 92,
   "id": "macro-framework",
   "metadata": {},
   "outputs": [],
   "source": [
    "features_df = boardgame_data.copy()\n",
    "features_df = features_df[features_df['max_players'] != features_df['max_players'].max()]"
   ]
  },
  {
   "cell_type": "code",
   "execution_count": null,
   "id": "overhead-roads",
   "metadata": {},
   "outputs": [],
   "source": []
  },
  {
   "cell_type": "markdown",
   "id": "sweet-daisy",
   "metadata": {},
   "source": [
    "## Step 6: Research Questions"
   ]
  },
  {
   "cell_type": "markdown",
   "id": "portable-virgin",
   "metadata": {},
   "source": [
    "The following research questions are based on the descriptions of the features available in the dataset and the initial exploration above:\n",
    "\n",
    "- Which boardgame categories are more popular in terms of rating value and number of ratings? Number of ratings could potentially be thought of as a proxy for number of users although there are a lot of assumptions associated with this as users of some categories may be more likely to post reviews.\n",
    "- Are there game feature values (minimum/maximum number of players, minimum/maximum playtime, etc) that have higher ratings or number of ratings associated with them?\n",
    "- How has the categories or game features of published games changed over time?\n"
   ]
  },
  {
   "cell_type": "markdown",
   "id": "three-powell",
   "metadata": {},
   "source": [
    "## Step 7: Data Analysis and Visualization"
   ]
  },
  {
   "cell_type": "markdown",
   "id": "parliamentary-brain",
   "metadata": {},
   "source": [
    "The first data analysis will focus on assessing the popularity of gameboard categories using the average game rating. Any game with a category count of less than 200 has been screened out."
   ]
  },
  {
   "cell_type": "code",
   "execution_count": 88,
   "id": "dependent-galaxy",
   "metadata": {},
   "outputs": [
    {
     "data": {
      "application/vnd.vegalite.v4+json": {
       "$schema": "https://vega.github.io/schema/vega-lite/v4.8.1.json",
       "config": {
        "view": {
         "continuousHeight": 300,
         "continuousWidth": 400
        }
       },
       "data": {
        "url": "http://localhost:15153/0a9f713ae9d1c34dab67caef7e28e9b3.json"
       },
       "hconcat": [
        {
         "encoding": {
          "size": {
           "aggregate": "count",
           "type": "quantitative"
          },
          "x": {
           "field": "average_rating",
           "type": "quantitative"
          },
          "y": {
           "field": "category",
           "sort": [
            "Miniatures",
            "World War II",
            "Trains",
            "City Building",
            "Wargame",
            "Transportation",
            "Territory Building",
            "Ancient",
            "Economic",
            "Political",
            "Medieval",
            "Fighting",
            "Nautical",
            "Print & Play",
            "Fantasy",
            "Science Fiction",
            "Sports",
            "Exploration",
            "Adventure",
            "Bluffing",
            "Deduction",
            "Collectible Components",
            "Horror",
            "Negotiation",
            "Abstract Strategy",
            "Card Game",
            "Dice",
            "Real-time",
            "Novel-based",
            "Animals",
            "Racing",
            "Action / Dexterity",
            "Party Game",
            "Humor",
            "Word Game",
            "Memory",
            "Movies / TV / Radio theme",
            "Children's Game",
            "Trivia"
           ],
           "type": "nominal"
          }
         },
         "mark": "boxplot"
        },
        {
         "encoding": {
          "x": {
           "aggregate": "count",
           "type": "quantitative"
          },
          "y": {
           "field": "category",
           "sort": [
            "Miniatures",
            "World War II",
            "Trains",
            "City Building",
            "Wargame",
            "Transportation",
            "Territory Building",
            "Ancient",
            "Economic",
            "Political",
            "Medieval",
            "Fighting",
            "Nautical",
            "Print & Play",
            "Fantasy",
            "Science Fiction",
            "Sports",
            "Exploration",
            "Adventure",
            "Bluffing",
            "Deduction",
            "Collectible Components",
            "Horror",
            "Negotiation",
            "Abstract Strategy",
            "Card Game",
            "Dice",
            "Real-time",
            "Novel-based",
            "Animals",
            "Racing",
            "Action / Dexterity",
            "Party Game",
            "Humor",
            "Word Game",
            "Memory",
            "Movies / TV / Radio theme",
            "Children's Game",
            "Trivia"
           ],
           "type": "nominal"
          }
         },
         "mark": "bar"
        }
       ]
      },
      "image/png": "[encoded data removed]",
      "text/plain": [
       "<VegaLite 4 object>\n",
       "\n",
       "If you see this message, it means the renderer has not been properly enabled\n",
       "for the frontend that you are using. For more information, see\n",
       "https://altair-viz.github.io/user_guide/troubleshooting.html\n"
      ]
     },
     "execution_count": 88,
     "metadata": {},
     "output_type": "execute_result"
    }
   ],
   "source": [
    "ch1 = (alt.Chart(category_ratings_df_cut).mark_boxplot().encode(\n",
    "    x=alt.X('average_rating'),\n",
    "    y=alt.Y('category', sort=category_by_rating),\n",
    "    size='count()',\n",
    "))\n",
    "\n",
    "ch2 = (alt.Chart(category_ratings_df_cut).mark_bar().encode(\n",
    "    x=alt.X('count()'),\n",
    "    y=alt.Y('category', sort=category_by_rating)\n",
    "))\n",
    "\n",
    "#ch3 = (alt.Chart(category_ratings_df_cut).mark_boxplot().encode(\n",
    "#    x=alt.X('users_rated', scale=alt.Scale(type='log')),\n",
    "#    y=alt.Y('category', sort=category_by_rating),\n",
    "#    size='count()'\n",
    "#))\n",
    "\n",
    "#ch1 | ch2 | ch3\n",
    "ch1 | ch2"
   ]
  },
  {
   "cell_type": "markdown",
   "id": "activated-indianapolis",
   "metadata": {},
   "source": [
    "Draft comments: Miniatures, World War II, and Trains have the highest rating; whearas Triva represents the lowest game. Wargames, Fantasy and Cardgames have the highest counts and the boxplots indicate that these categories have a wide spread of rating with many higher average rating values.\n",
    "\n",
    "### I think this is a general plot type that we want to go with - not sure if there's something else that can be done with it....need to remove "
   ]
  },
  {
   "cell_type": "code",
   "execution_count": 93,
   "id": "breeding-server",
   "metadata": {},
   "outputs": [
    {
     "data": {
      "application/vnd.vegalite.v4+json": {
       "$schema": "https://vega.github.io/schema/vega-lite/v4.8.1.json",
       "config": {
        "view": {
         "continuousHeight": 300,
         "continuousWidth": 400
        }
       },
       "data": {
        "url": "http://localhost:15153/5def85b218d21446095000077f9ce237.json"
       },
       "encoding": {
        "color": {
         "aggregate": "count",
         "type": "quantitative"
        },
        "x": {
         "bin": {
          "maxbins": 10
         },
         "field": "min_players",
         "type": "quantitative"
        },
        "y": {
         "bin": {
          "maxbins": 10
         },
         "field": "max_players",
         "type": "quantitative"
        }
       },
       "mark": "rect"
      },
      "image/png": "[encoded data removed]",
      "text/plain": [
       "<VegaLite 4 object>\n",
       "\n",
       "If you see this message, it means the renderer has not been properly enabled\n",
       "for the frontend that you are using. For more information, see\n",
       "https://altair-viz.github.io/user_guide/troubleshooting.html\n"
      ]
     },
     "execution_count": 93,
     "metadata": {},
     "output_type": "execute_result"
    }
   ],
   "source": [
    "alt.Chart(features_df).mark_rect().encode(\n",
    "    alt.X('min_players', bin=alt.Bin(maxbins=10)),\n",
    "    alt.Y('max_players', bin=alt.Bin(maxbins=10)),\n",
    "alt.Color('count()'))\n",
    "\n",
    "# this isn't a good plot just playing around"
   ]
  },
  {
   "cell_type": "code",
   "execution_count": 100,
   "id": "interior-offset",
   "metadata": {},
   "outputs": [
    {
     "data": {
      "application/vnd.vegalite.v4+json": {
       "$schema": "https://vega.github.io/schema/vega-lite/v4.8.1.json",
       "config": {
        "view": {
         "continuousHeight": 300,
         "continuousWidth": 400
        }
       },
       "data": {
        "url": "http://localhost:15153/0a9f713ae9d1c34dab67caef7e28e9b3.json"
       },
       "hconcat": [
        {
         "encoding": {
          "x": {
           "field": "min_players",
           "sort": [
            "Miniatures",
            "World War II",
            "Trains",
            "City Building",
            "Wargame",
            "Transportation",
            "Territory Building",
            "Ancient",
            "Economic",
            "Political",
            "Medieval",
            "Fighting",
            "Nautical",
            "Print & Play",
            "Fantasy",
            "Science Fiction",
            "Sports",
            "Exploration",
            "Adventure",
            "Bluffing",
            "Deduction",
            "Collectible Components",
            "Horror",
            "Negotiation",
            "Abstract Strategy",
            "Card Game",
            "Dice",
            "Real-time",
            "Novel-based",
            "Animals",
            "Racing",
            "Action / Dexterity",
            "Party Game",
            "Humor",
            "Word Game",
            "Memory",
            "Movies / TV / Radio theme",
            "Children's Game",
            "Trivia"
           ],
           "type": "quantitative"
          },
          "y": {
           "aggregate": "count",
           "type": "quantitative"
          }
         },
         "mark": "bar"
        },
        {
         "encoding": {
          "x": {
           "field": "max_players",
           "sort": [
            "Miniatures",
            "World War II",
            "Trains",
            "City Building",
            "Wargame",
            "Transportation",
            "Territory Building",
            "Ancient",
            "Economic",
            "Political",
            "Medieval",
            "Fighting",
            "Nautical",
            "Print & Play",
            "Fantasy",
            "Science Fiction",
            "Sports",
            "Exploration",
            "Adventure",
            "Bluffing",
            "Deduction",
            "Collectible Components",
            "Horror",
            "Negotiation",
            "Abstract Strategy",
            "Card Game",
            "Dice",
            "Real-time",
            "Novel-based",
            "Animals",
            "Racing",
            "Action / Dexterity",
            "Party Game",
            "Humor",
            "Word Game",
            "Memory",
            "Movies / TV / Radio theme",
            "Children's Game",
            "Trivia"
           ],
           "type": "quantitative"
          },
          "y": {
           "aggregate": "count",
           "type": "quantitative"
          }
         },
         "mark": "bar"
        }
       ]
      },
      "image/png": "[encoded data removed]",
      "text/plain": [
       "<VegaLite 4 object>\n",
       "\n",
       "If you see this message, it means the renderer has not been properly enabled\n",
       "for the frontend that you are using. For more information, see\n",
       "https://altair-viz.github.io/user_guide/troubleshooting.html\n"
      ]
     },
     "execution_count": 100,
     "metadata": {},
     "output_type": "execute_result"
    }
   ],
   "source": [
    "cha = (alt.Chart(category_ratings_df_cut).mark_bar().encode(\n",
    "    x=alt.Y('min_players'),\n",
    "    y=alt.X('count()'),  \n",
    "))\n",
    "\n",
    "chb = (alt.Chart(category_ratings_df_cut).mark_bar(clip=True).encode(\n",
    "    x=alt.Y('max_players', scale=alt.Scale(domain=(0, ))),\n",
    "    y=alt.X('count()', ),  \n",
    "))\n",
    "\n",
    "cha | chb"
   ]
  },
  {
   "cell_type": "code",
   "execution_count": null,
   "id": "searching-labor",
   "metadata": {},
   "outputs": [],
   "source": []
  },
  {
   "cell_type": "markdown",
   "id": "baking-confidence",
   "metadata": {},
   "source": [
    "## Step 8: Summary and Conclusion"
   ]
  },
  {
   "cell_type": "code",
   "execution_count": null,
   "id": "divided-fault",
   "metadata": {},
   "outputs": [],
   "source": []
  },
  {
   "cell_type": "code",
   "execution_count": null,
   "id": "incorrect-brazilian",
   "metadata": {},
   "outputs": [],
   "source": []
  },
  {
   "cell_type": "code",
   "execution_count": null,
   "id": "working-thailand",
   "metadata": {},
   "outputs": [],
   "source": []
  },
  {
   "cell_type": "code",
   "execution_count": null,
   "id": "fourth-acrylic",
   "metadata": {},
   "outputs": [],
   "source": []
  }
 ],
 "metadata": {
  "kernelspec": {
   "display_name": "Python 3",
   "language": "python",
   "name": "python3"
  },
  "language_info": {
   "codemirror_mode": {
    "name": "ipython",
    "version": 3
   },
   "file_extension": ".py",
   "mimetype": "text/x-python",
   "name": "python",
   "nbconvert_exporter": "python",
   "pygments_lexer": "ipython3",
   "version": "3.8.5"
  }
 },
 "nbformat": 4,
 "nbformat_minor": 5
}
